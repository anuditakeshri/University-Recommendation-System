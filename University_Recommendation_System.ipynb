{
 "cells": [
  {
   "cell_type": "code",
   "execution_count": 1,
   "metadata": {},
   "outputs": [],
   "source": [
    "import numpy as np  #importing numpy library to perform mathematical and logical operations"
   ]
  },
  {
   "cell_type": "code",
   "execution_count": 2,
   "metadata": {},
   "outputs": [],
   "source": [
    "import pandas as pd  #importing pandas which is high-level data manipulation tool"
   ]
  },
  {
   "cell_type": "code",
   "execution_count": 3,
   "metadata": {},
   "outputs": [],
   "source": [
    "data = pd.read_csv('allUsersFinal.csv') #reading csv file"
   ]
  },
  {
   "cell_type": "code",
   "execution_count": 4,
   "metadata": {},
   "outputs": [
    {
     "data": {
      "text/html": [
       "<div>\n",
       "<style scoped>\n",
       "    .dataframe tbody tr th:only-of-type {\n",
       "        vertical-align: middle;\n",
       "    }\n",
       "\n",
       "    .dataframe tbody tr th {\n",
       "        vertical-align: top;\n",
       "    }\n",
       "\n",
       "    .dataframe thead th {\n",
       "        text-align: right;\n",
       "    }\n",
       "</style>\n",
       "<table border=\"1\" class=\"dataframe\">\n",
       "  <thead>\n",
       "    <tr style=\"text-align: right;\">\n",
       "      <th></th>\n",
       "      <th>userName</th>\n",
       "      <th>major</th>\n",
       "      <th>researchExp</th>\n",
       "      <th>industryExp</th>\n",
       "      <th>specialization</th>\n",
       "      <th>toeflScore</th>\n",
       "      <th>program</th>\n",
       "      <th>department</th>\n",
       "      <th>toeflEssay</th>\n",
       "      <th>internExp</th>\n",
       "      <th>...</th>\n",
       "      <th>termAndYear</th>\n",
       "      <th>confPubs</th>\n",
       "      <th>ugCollege</th>\n",
       "      <th>gmatA</th>\n",
       "      <th>cgpa</th>\n",
       "      <th>gmatQ</th>\n",
       "      <th>cgpaScale</th>\n",
       "      <th>gmatV</th>\n",
       "      <th>univName</th>\n",
       "      <th>admit</th>\n",
       "    </tr>\n",
       "  </thead>\n",
       "  <tbody>\n",
       "    <tr>\n",
       "      <th>0</th>\n",
       "      <td>143saf</td>\n",
       "      <td>Systems and Control</td>\n",
       "      <td>0</td>\n",
       "      <td>18</td>\n",
       "      <td>Robotics</td>\n",
       "      <td>112.0</td>\n",
       "      <td>MS</td>\n",
       "      <td>Instrumentation &amp; Control</td>\n",
       "      <td>26</td>\n",
       "      <td>5.0</td>\n",
       "      <td>...</td>\n",
       "      <td>Fall - 2015</td>\n",
       "      <td>0</td>\n",
       "      <td>Dharamsinh Desai University</td>\n",
       "      <td>NaN</td>\n",
       "      <td>8.50</td>\n",
       "      <td>NaN</td>\n",
       "      <td>10</td>\n",
       "      <td>NaN</td>\n",
       "      <td>Worcester Polytechnic Institute</td>\n",
       "      <td>1</td>\n",
       "    </tr>\n",
       "    <tr>\n",
       "      <th>1</th>\n",
       "      <td>7790ashish</td>\n",
       "      <td>Manufacturing Engineering</td>\n",
       "      <td>0</td>\n",
       "      <td>0</td>\n",
       "      <td>NaN</td>\n",
       "      <td>NaN</td>\n",
       "      <td>MS</td>\n",
       "      <td>0</td>\n",
       "      <td>NaN</td>\n",
       "      <td>0.0</td>\n",
       "      <td>...</td>\n",
       "      <td>Fall - 2013</td>\n",
       "      <td>0</td>\n",
       "      <td>NaN</td>\n",
       "      <td>NaN</td>\n",
       "      <td>0.00</td>\n",
       "      <td>NaN</td>\n",
       "      <td>0</td>\n",
       "      <td>NaN</td>\n",
       "      <td>Worcester Polytechnic Institute</td>\n",
       "      <td>1</td>\n",
       "    </tr>\n",
       "    <tr>\n",
       "      <th>2</th>\n",
       "      <td>AB25</td>\n",
       "      <td>(MIS / MSIM / MSIS / MSIT)</td>\n",
       "      <td>0</td>\n",
       "      <td>66</td>\n",
       "      <td>NaN</td>\n",
       "      <td>94.0</td>\n",
       "      <td>MS</td>\n",
       "      <td>Computer Engineering</td>\n",
       "      <td>21</td>\n",
       "      <td>0.0</td>\n",
       "      <td>...</td>\n",
       "      <td>Fall - 2015</td>\n",
       "      <td>0</td>\n",
       "      <td>IET DAVV</td>\n",
       "      <td>NaN</td>\n",
       "      <td>78.28</td>\n",
       "      <td>NaN</td>\n",
       "      <td>100</td>\n",
       "      <td>NaN</td>\n",
       "      <td>Worcester Polytechnic Institute</td>\n",
       "      <td>1</td>\n",
       "    </tr>\n",
       "    <tr>\n",
       "      <th>3</th>\n",
       "      <td>abhijitg</td>\n",
       "      <td>NaN</td>\n",
       "      <td>0</td>\n",
       "      <td>0</td>\n",
       "      <td>NaN</td>\n",
       "      <td>NaN</td>\n",
       "      <td>NaN</td>\n",
       "      <td>0</td>\n",
       "      <td>NaN</td>\n",
       "      <td>0.0</td>\n",
       "      <td>...</td>\n",
       "      <td>NaN</td>\n",
       "      <td>NaN</td>\n",
       "      <td>NaN</td>\n",
       "      <td>NaN</td>\n",
       "      <td>0.00</td>\n",
       "      <td>NaN</td>\n",
       "      <td>0</td>\n",
       "      <td>NaN</td>\n",
       "      <td>Worcester Polytechnic Institute</td>\n",
       "      <td>1</td>\n",
       "    </tr>\n",
       "    <tr>\n",
       "      <th>4</th>\n",
       "      <td>abhijitgang</td>\n",
       "      <td>MIS</td>\n",
       "      <td>0</td>\n",
       "      <td>0</td>\n",
       "      <td>NaN</td>\n",
       "      <td>81.0</td>\n",
       "      <td>MS</td>\n",
       "      <td>computer</td>\n",
       "      <td>NaN</td>\n",
       "      <td>0.0</td>\n",
       "      <td>...</td>\n",
       "      <td>Fall - 2011</td>\n",
       "      <td>0</td>\n",
       "      <td>Pune University</td>\n",
       "      <td>NaN</td>\n",
       "      <td>57.00</td>\n",
       "      <td>NaN</td>\n",
       "      <td>100</td>\n",
       "      <td>NaN</td>\n",
       "      <td>Worcester Polytechnic Institute</td>\n",
       "      <td>1</td>\n",
       "    </tr>\n",
       "  </tbody>\n",
       "</table>\n",
       "<p>5 rows × 26 columns</p>\n",
       "</div>"
      ],
      "text/plain": [
       "      userName                       major  researchExp  industryExp  \\\n",
       "0       143saf         Systems and Control            0           18   \n",
       "1   7790ashish   Manufacturing Engineering            0            0   \n",
       "2         AB25  (MIS / MSIM / MSIS / MSIT)            0           66   \n",
       "3     abhijitg                         NaN            0            0   \n",
       "4  abhijitgang                         MIS            0            0   \n",
       "\n",
       "  specialization  toeflScore program                 department toeflEssay  \\\n",
       "0       Robotics       112.0      MS  Instrumentation & Control         26   \n",
       "1            NaN         NaN      MS                          0        NaN   \n",
       "2            NaN        94.0      MS       Computer Engineering         21   \n",
       "3            NaN         NaN     NaN                          0        NaN   \n",
       "4            NaN        81.0      MS                   computer        NaN   \n",
       "\n",
       "   internExp  ...  termAndYear  confPubs                    ugCollege gmatA  \\\n",
       "0        5.0  ...  Fall - 2015         0  Dharamsinh Desai University   NaN   \n",
       "1        0.0  ...  Fall - 2013         0                          NaN   NaN   \n",
       "2        0.0  ...  Fall - 2015         0                     IET DAVV   NaN   \n",
       "3        0.0  ...          NaN       NaN                          NaN   NaN   \n",
       "4        0.0  ...  Fall - 2011         0              Pune University   NaN   \n",
       "\n",
       "    cgpa  gmatQ cgpaScale gmatV                         univName  admit  \n",
       "0   8.50    NaN        10   NaN  Worcester Polytechnic Institute      1  \n",
       "1   0.00    NaN         0   NaN  Worcester Polytechnic Institute      1  \n",
       "2  78.28    NaN       100   NaN  Worcester Polytechnic Institute      1  \n",
       "3   0.00    NaN         0   NaN  Worcester Polytechnic Institute      1  \n",
       "4  57.00    NaN       100   NaN  Worcester Polytechnic Institute      1  \n",
       "\n",
       "[5 rows x 26 columns]"
      ]
     },
     "execution_count": 4,
     "metadata": {},
     "output_type": "execute_result"
    }
   ],
   "source": [
    "data.head() #Analysing the data in tabular form, first five entries generated "
   ]
  },
  {
   "cell_type": "code",
   "execution_count": 5,
   "metadata": {},
   "outputs": [
    {
     "data": {
      "text/plain": [
       "(53644, 26)"
      ]
     },
     "execution_count": 5,
     "metadata": {},
     "output_type": "execute_result"
    }
   ],
   "source": [
    "data.shape #determining number of rows and columns"
   ]
  },
  {
   "cell_type": "code",
   "execution_count": 6,
   "metadata": {},
   "outputs": [
    {
     "name": "stdout",
     "output_type": "stream",
     "text": [
      "userName\n",
      "major\n",
      "researchExp\n",
      "industryExp\n",
      "specialization\n",
      "toeflScore\n",
      "program\n",
      "department\n",
      "toeflEssay\n",
      "internExp\n",
      "greV\n",
      "greQ\n",
      "userProfileLink\n",
      "journalPubs\n",
      "greA\n",
      "topperCgpa\n",
      "termAndYear\n",
      "confPubs\n",
      "ugCollege\n",
      "gmatA\n",
      "cgpa\n",
      "gmatQ\n",
      "cgpaScale\n",
      "gmatV\n",
      "univName\n",
      "admit\n"
     ]
    }
   ],
   "source": [
    "for col in data.columns:  #total attributes\n",
    "    print(col)"
   ]
  },
  {
   "cell_type": "code",
   "execution_count": 7,
   "metadata": {},
   "outputs": [],
   "source": [
    "#assigning original data into another dataframe named 'x_train'\n",
    "x_train = data"
   ]
  },
  {
   "cell_type": "code",
   "execution_count": 8,
   "metadata": {},
   "outputs": [
    {
     "data": {
      "text/plain": [
       "(53644, 26)"
      ]
     },
     "execution_count": 8,
     "metadata": {},
     "output_type": "execute_result"
    }
   ],
   "source": [
    "# x_train is the data on which we'll train our model,by later on splitting it.\n",
    "x_train.shape #checking the number of rows and columns"
   ]
  },
  {
   "cell_type": "code",
   "execution_count": 10,
   "metadata": {},
   "outputs": [
    {
     "data": {
      "text/html": [
       "<div>\n",
       "<style scoped>\n",
       "    .dataframe tbody tr th:only-of-type {\n",
       "        vertical-align: middle;\n",
       "    }\n",
       "\n",
       "    .dataframe tbody tr th {\n",
       "        vertical-align: top;\n",
       "    }\n",
       "\n",
       "    .dataframe thead th {\n",
       "        text-align: right;\n",
       "    }\n",
       "</style>\n",
       "<table border=\"1\" class=\"dataframe\">\n",
       "  <thead>\n",
       "    <tr style=\"text-align: right;\">\n",
       "      <th></th>\n",
       "      <th>userName</th>\n",
       "      <th>major</th>\n",
       "      <th>researchExp</th>\n",
       "      <th>industryExp</th>\n",
       "      <th>specialization</th>\n",
       "      <th>toeflScore</th>\n",
       "      <th>program</th>\n",
       "      <th>department</th>\n",
       "      <th>toeflEssay</th>\n",
       "      <th>internExp</th>\n",
       "      <th>...</th>\n",
       "      <th>termAndYear</th>\n",
       "      <th>confPubs</th>\n",
       "      <th>ugCollege</th>\n",
       "      <th>gmatA</th>\n",
       "      <th>cgpa</th>\n",
       "      <th>gmatQ</th>\n",
       "      <th>cgpaScale</th>\n",
       "      <th>gmatV</th>\n",
       "      <th>univName</th>\n",
       "      <th>admit</th>\n",
       "    </tr>\n",
       "  </thead>\n",
       "  <tbody>\n",
       "    <tr>\n",
       "      <th>0</th>\n",
       "      <td>143saf</td>\n",
       "      <td>Systems and Control</td>\n",
       "      <td>0</td>\n",
       "      <td>18</td>\n",
       "      <td>Robotics</td>\n",
       "      <td>112.0</td>\n",
       "      <td>MS</td>\n",
       "      <td>Instrumentation &amp; Control</td>\n",
       "      <td>26</td>\n",
       "      <td>5.0</td>\n",
       "      <td>...</td>\n",
       "      <td>Fall - 2015</td>\n",
       "      <td>0</td>\n",
       "      <td>Dharamsinh Desai University</td>\n",
       "      <td>NaN</td>\n",
       "      <td>8.50</td>\n",
       "      <td>NaN</td>\n",
       "      <td>10</td>\n",
       "      <td>NaN</td>\n",
       "      <td>Worcester Polytechnic Institute</td>\n",
       "      <td>1</td>\n",
       "    </tr>\n",
       "    <tr>\n",
       "      <th>1</th>\n",
       "      <td>7790ashish</td>\n",
       "      <td>Manufacturing Engineering</td>\n",
       "      <td>0</td>\n",
       "      <td>0</td>\n",
       "      <td>NaN</td>\n",
       "      <td>NaN</td>\n",
       "      <td>MS</td>\n",
       "      <td>0</td>\n",
       "      <td>NaN</td>\n",
       "      <td>0.0</td>\n",
       "      <td>...</td>\n",
       "      <td>Fall - 2013</td>\n",
       "      <td>0</td>\n",
       "      <td>NaN</td>\n",
       "      <td>NaN</td>\n",
       "      <td>0.00</td>\n",
       "      <td>NaN</td>\n",
       "      <td>0</td>\n",
       "      <td>NaN</td>\n",
       "      <td>Worcester Polytechnic Institute</td>\n",
       "      <td>1</td>\n",
       "    </tr>\n",
       "    <tr>\n",
       "      <th>2</th>\n",
       "      <td>AB25</td>\n",
       "      <td>(MIS / MSIM / MSIS / MSIT)</td>\n",
       "      <td>0</td>\n",
       "      <td>66</td>\n",
       "      <td>NaN</td>\n",
       "      <td>94.0</td>\n",
       "      <td>MS</td>\n",
       "      <td>Computer Engineering</td>\n",
       "      <td>21</td>\n",
       "      <td>0.0</td>\n",
       "      <td>...</td>\n",
       "      <td>Fall - 2015</td>\n",
       "      <td>0</td>\n",
       "      <td>IET DAVV</td>\n",
       "      <td>NaN</td>\n",
       "      <td>78.28</td>\n",
       "      <td>NaN</td>\n",
       "      <td>100</td>\n",
       "      <td>NaN</td>\n",
       "      <td>Worcester Polytechnic Institute</td>\n",
       "      <td>1</td>\n",
       "    </tr>\n",
       "    <tr>\n",
       "      <th>3</th>\n",
       "      <td>abhijitg</td>\n",
       "      <td>NaN</td>\n",
       "      <td>0</td>\n",
       "      <td>0</td>\n",
       "      <td>NaN</td>\n",
       "      <td>NaN</td>\n",
       "      <td>NaN</td>\n",
       "      <td>0</td>\n",
       "      <td>NaN</td>\n",
       "      <td>0.0</td>\n",
       "      <td>...</td>\n",
       "      <td>NaN</td>\n",
       "      <td>NaN</td>\n",
       "      <td>NaN</td>\n",
       "      <td>NaN</td>\n",
       "      <td>0.00</td>\n",
       "      <td>NaN</td>\n",
       "      <td>0</td>\n",
       "      <td>NaN</td>\n",
       "      <td>Worcester Polytechnic Institute</td>\n",
       "      <td>1</td>\n",
       "    </tr>\n",
       "    <tr>\n",
       "      <th>4</th>\n",
       "      <td>abhijitgang</td>\n",
       "      <td>MIS</td>\n",
       "      <td>0</td>\n",
       "      <td>0</td>\n",
       "      <td>NaN</td>\n",
       "      <td>81.0</td>\n",
       "      <td>MS</td>\n",
       "      <td>computer</td>\n",
       "      <td>NaN</td>\n",
       "      <td>0.0</td>\n",
       "      <td>...</td>\n",
       "      <td>Fall - 2011</td>\n",
       "      <td>0</td>\n",
       "      <td>Pune University</td>\n",
       "      <td>NaN</td>\n",
       "      <td>57.00</td>\n",
       "      <td>NaN</td>\n",
       "      <td>100</td>\n",
       "      <td>NaN</td>\n",
       "      <td>Worcester Polytechnic Institute</td>\n",
       "      <td>1</td>\n",
       "    </tr>\n",
       "  </tbody>\n",
       "</table>\n",
       "<p>5 rows × 26 columns</p>\n",
       "</div>"
      ],
      "text/plain": [
       "      userName                       major  researchExp  industryExp  \\\n",
       "0       143saf         Systems and Control            0           18   \n",
       "1   7790ashish   Manufacturing Engineering            0            0   \n",
       "2         AB25  (MIS / MSIM / MSIS / MSIT)            0           66   \n",
       "3     abhijitg                         NaN            0            0   \n",
       "4  abhijitgang                         MIS            0            0   \n",
       "\n",
       "  specialization  toeflScore program                 department toeflEssay  \\\n",
       "0       Robotics       112.0      MS  Instrumentation & Control         26   \n",
       "1            NaN         NaN      MS                          0        NaN   \n",
       "2            NaN        94.0      MS       Computer Engineering         21   \n",
       "3            NaN         NaN     NaN                          0        NaN   \n",
       "4            NaN        81.0      MS                   computer        NaN   \n",
       "\n",
       "   internExp  ...  termAndYear  confPubs                    ugCollege gmatA  \\\n",
       "0        5.0  ...  Fall - 2015         0  Dharamsinh Desai University   NaN   \n",
       "1        0.0  ...  Fall - 2013         0                          NaN   NaN   \n",
       "2        0.0  ...  Fall - 2015         0                     IET DAVV   NaN   \n",
       "3        0.0  ...          NaN       NaN                          NaN   NaN   \n",
       "4        0.0  ...  Fall - 2011         0              Pune University   NaN   \n",
       "\n",
       "    cgpa  gmatQ cgpaScale gmatV                         univName  admit  \n",
       "0   8.50    NaN        10   NaN  Worcester Polytechnic Institute      1  \n",
       "1   0.00    NaN         0   NaN  Worcester Polytechnic Institute      1  \n",
       "2  78.28    NaN       100   NaN  Worcester Polytechnic Institute      1  \n",
       "3   0.00    NaN         0   NaN  Worcester Polytechnic Institute      1  \n",
       "4  57.00    NaN       100   NaN  Worcester Polytechnic Institute      1  \n",
       "\n",
       "[5 rows x 26 columns]"
      ]
     },
     "execution_count": 10,
     "metadata": {},
     "output_type": "execute_result"
    }
   ],
   "source": [
    "x_train.head()  #Analysing the first five entries again"
   ]
  },
  {
   "cell_type": "code",
   "execution_count": 11,
   "metadata": {},
   "outputs": [
    {
     "data": {
      "text/plain": [
       "(53644, 25)"
      ]
     },
     "execution_count": 11,
     "metadata": {},
     "output_type": "execute_result"
    }
   ],
   "source": [
    "x_train = x_train.drop('termAndYear',1,inplace = False) #termAndYear attribute is of no use here,hence drop.\n",
    "x_train.shape"
   ]
  },
  {
   "cell_type": "code",
   "execution_count": 12,
   "metadata": {},
   "outputs": [],
   "source": [
    "x_train = x_train.drop('userName',1,inplace = False)  #userName is dropped"
   ]
  },
  {
   "cell_type": "code",
   "execution_count": 13,
   "metadata": {},
   "outputs": [
    {
     "data": {
      "text/plain": [
       "(53644, 24)"
      ]
     },
     "execution_count": 13,
     "metadata": {},
     "output_type": "execute_result"
    }
   ],
   "source": [
    "x_train.shape #checking number of columns after dropping"
   ]
  },
  {
   "cell_type": "code",
   "execution_count": 14,
   "metadata": {},
   "outputs": [
    {
     "data": {
      "text/html": [
       "<div>\n",
       "<style scoped>\n",
       "    .dataframe tbody tr th:only-of-type {\n",
       "        vertical-align: middle;\n",
       "    }\n",
       "\n",
       "    .dataframe tbody tr th {\n",
       "        vertical-align: top;\n",
       "    }\n",
       "\n",
       "    .dataframe thead th {\n",
       "        text-align: right;\n",
       "    }\n",
       "</style>\n",
       "<table border=\"1\" class=\"dataframe\">\n",
       "  <thead>\n",
       "    <tr style=\"text-align: right;\">\n",
       "      <th></th>\n",
       "      <th>major</th>\n",
       "      <th>researchExp</th>\n",
       "      <th>industryExp</th>\n",
       "      <th>specialization</th>\n",
       "      <th>toeflScore</th>\n",
       "      <th>program</th>\n",
       "      <th>department</th>\n",
       "      <th>toeflEssay</th>\n",
       "      <th>internExp</th>\n",
       "      <th>greV</th>\n",
       "      <th>...</th>\n",
       "      <th>topperCgpa</th>\n",
       "      <th>confPubs</th>\n",
       "      <th>ugCollege</th>\n",
       "      <th>gmatA</th>\n",
       "      <th>cgpa</th>\n",
       "      <th>gmatQ</th>\n",
       "      <th>cgpaScale</th>\n",
       "      <th>gmatV</th>\n",
       "      <th>univName</th>\n",
       "      <th>admit</th>\n",
       "    </tr>\n",
       "  </thead>\n",
       "  <tbody>\n",
       "    <tr>\n",
       "      <th>0</th>\n",
       "      <td>Systems and Control</td>\n",
       "      <td>0</td>\n",
       "      <td>18</td>\n",
       "      <td>Robotics</td>\n",
       "      <td>112.0</td>\n",
       "      <td>MS</td>\n",
       "      <td>Instrumentation &amp; Control</td>\n",
       "      <td>26</td>\n",
       "      <td>5.0</td>\n",
       "      <td>160.0</td>\n",
       "      <td>...</td>\n",
       "      <td>8.9</td>\n",
       "      <td>0</td>\n",
       "      <td>Dharamsinh Desai University</td>\n",
       "      <td>NaN</td>\n",
       "      <td>8.50</td>\n",
       "      <td>NaN</td>\n",
       "      <td>10</td>\n",
       "      <td>NaN</td>\n",
       "      <td>Worcester Polytechnic Institute</td>\n",
       "      <td>1</td>\n",
       "    </tr>\n",
       "    <tr>\n",
       "      <th>1</th>\n",
       "      <td>Manufacturing Engineering</td>\n",
       "      <td>0</td>\n",
       "      <td>0</td>\n",
       "      <td>NaN</td>\n",
       "      <td>NaN</td>\n",
       "      <td>MS</td>\n",
       "      <td>0</td>\n",
       "      <td>NaN</td>\n",
       "      <td>0.0</td>\n",
       "      <td>NaN</td>\n",
       "      <td>...</td>\n",
       "      <td>0.0</td>\n",
       "      <td>0</td>\n",
       "      <td>NaN</td>\n",
       "      <td>NaN</td>\n",
       "      <td>0.00</td>\n",
       "      <td>NaN</td>\n",
       "      <td>0</td>\n",
       "      <td>NaN</td>\n",
       "      <td>Worcester Polytechnic Institute</td>\n",
       "      <td>1</td>\n",
       "    </tr>\n",
       "    <tr>\n",
       "      <th>2</th>\n",
       "      <td>(MIS / MSIM / MSIS / MSIT)</td>\n",
       "      <td>0</td>\n",
       "      <td>66</td>\n",
       "      <td>NaN</td>\n",
       "      <td>94.0</td>\n",
       "      <td>MS</td>\n",
       "      <td>Computer Engineering</td>\n",
       "      <td>21</td>\n",
       "      <td>0.0</td>\n",
       "      <td>146.0</td>\n",
       "      <td>...</td>\n",
       "      <td>81.0</td>\n",
       "      <td>0</td>\n",
       "      <td>IET DAVV</td>\n",
       "      <td>NaN</td>\n",
       "      <td>78.28</td>\n",
       "      <td>NaN</td>\n",
       "      <td>100</td>\n",
       "      <td>NaN</td>\n",
       "      <td>Worcester Polytechnic Institute</td>\n",
       "      <td>1</td>\n",
       "    </tr>\n",
       "    <tr>\n",
       "      <th>3</th>\n",
       "      <td>NaN</td>\n",
       "      <td>0</td>\n",
       "      <td>0</td>\n",
       "      <td>NaN</td>\n",
       "      <td>NaN</td>\n",
       "      <td>NaN</td>\n",
       "      <td>0</td>\n",
       "      <td>NaN</td>\n",
       "      <td>0.0</td>\n",
       "      <td>NaN</td>\n",
       "      <td>...</td>\n",
       "      <td>0.0</td>\n",
       "      <td>NaN</td>\n",
       "      <td>NaN</td>\n",
       "      <td>NaN</td>\n",
       "      <td>0.00</td>\n",
       "      <td>NaN</td>\n",
       "      <td>0</td>\n",
       "      <td>NaN</td>\n",
       "      <td>Worcester Polytechnic Institute</td>\n",
       "      <td>1</td>\n",
       "    </tr>\n",
       "    <tr>\n",
       "      <th>4</th>\n",
       "      <td>MIS</td>\n",
       "      <td>0</td>\n",
       "      <td>0</td>\n",
       "      <td>NaN</td>\n",
       "      <td>81.0</td>\n",
       "      <td>MS</td>\n",
       "      <td>computer</td>\n",
       "      <td>NaN</td>\n",
       "      <td>0.0</td>\n",
       "      <td>420.0</td>\n",
       "      <td>...</td>\n",
       "      <td>70.0</td>\n",
       "      <td>0</td>\n",
       "      <td>Pune University</td>\n",
       "      <td>NaN</td>\n",
       "      <td>57.00</td>\n",
       "      <td>NaN</td>\n",
       "      <td>100</td>\n",
       "      <td>NaN</td>\n",
       "      <td>Worcester Polytechnic Institute</td>\n",
       "      <td>1</td>\n",
       "    </tr>\n",
       "  </tbody>\n",
       "</table>\n",
       "<p>5 rows × 24 columns</p>\n",
       "</div>"
      ],
      "text/plain": [
       "                        major  researchExp  industryExp specialization  \\\n",
       "0         Systems and Control            0           18       Robotics   \n",
       "1   Manufacturing Engineering            0            0            NaN   \n",
       "2  (MIS / MSIM / MSIS / MSIT)            0           66            NaN   \n",
       "3                         NaN            0            0            NaN   \n",
       "4                         MIS            0            0            NaN   \n",
       "\n",
       "   toeflScore program                 department toeflEssay  internExp   greV  \\\n",
       "0       112.0      MS  Instrumentation & Control         26        5.0  160.0   \n",
       "1         NaN      MS                          0        NaN        0.0    NaN   \n",
       "2        94.0      MS       Computer Engineering         21        0.0  146.0   \n",
       "3         NaN     NaN                          0        NaN        0.0    NaN   \n",
       "4        81.0      MS                   computer        NaN        0.0  420.0   \n",
       "\n",
       "   ...  topperCgpa confPubs                    ugCollege  gmatA   cgpa gmatQ  \\\n",
       "0  ...         8.9        0  Dharamsinh Desai University    NaN   8.50   NaN   \n",
       "1  ...         0.0        0                          NaN    NaN   0.00   NaN   \n",
       "2  ...        81.0        0                     IET DAVV    NaN  78.28   NaN   \n",
       "3  ...         0.0      NaN                          NaN    NaN   0.00   NaN   \n",
       "4  ...        70.0        0              Pune University    NaN  57.00   NaN   \n",
       "\n",
       "  cgpaScale  gmatV                         univName  admit  \n",
       "0        10    NaN  Worcester Polytechnic Institute      1  \n",
       "1         0    NaN  Worcester Polytechnic Institute      1  \n",
       "2       100    NaN  Worcester Polytechnic Institute      1  \n",
       "3         0    NaN  Worcester Polytechnic Institute      1  \n",
       "4       100    NaN  Worcester Polytechnic Institute      1  \n",
       "\n",
       "[5 rows x 24 columns]"
      ]
     },
     "execution_count": 14,
     "metadata": {},
     "output_type": "execute_result"
    }
   ],
   "source": [
    "x_train.head() #Analysing the data again"
   ]
  },
  {
   "cell_type": "code",
   "execution_count": 15,
   "metadata": {},
   "outputs": [],
   "source": [
    "x_train = x_train.drop('toeflEssay',1,inplace = False)  #toeflScore is already given so drop toeflEssay."
   ]
  },
  {
   "cell_type": "code",
   "execution_count": 16,
   "metadata": {},
   "outputs": [
    {
     "data": {
      "text/plain": [
       "(53644, 23)"
      ]
     },
     "execution_count": 16,
     "metadata": {},
     "output_type": "execute_result"
    }
   ],
   "source": [
    "x_train.shape #checking number of columns again"
   ]
  },
  {
   "cell_type": "code",
   "execution_count": 17,
   "metadata": {},
   "outputs": [
    {
     "data": {
      "text/html": [
       "<div>\n",
       "<style scoped>\n",
       "    .dataframe tbody tr th:only-of-type {\n",
       "        vertical-align: middle;\n",
       "    }\n",
       "\n",
       "    .dataframe tbody tr th {\n",
       "        vertical-align: top;\n",
       "    }\n",
       "\n",
       "    .dataframe thead th {\n",
       "        text-align: right;\n",
       "    }\n",
       "</style>\n",
       "<table border=\"1\" class=\"dataframe\">\n",
       "  <thead>\n",
       "    <tr style=\"text-align: right;\">\n",
       "      <th></th>\n",
       "      <th>major</th>\n",
       "      <th>researchExp</th>\n",
       "      <th>industryExp</th>\n",
       "      <th>specialization</th>\n",
       "      <th>toeflScore</th>\n",
       "      <th>program</th>\n",
       "      <th>department</th>\n",
       "      <th>internExp</th>\n",
       "      <th>greV</th>\n",
       "      <th>greQ</th>\n",
       "      <th>...</th>\n",
       "      <th>topperCgpa</th>\n",
       "      <th>confPubs</th>\n",
       "      <th>ugCollege</th>\n",
       "      <th>gmatA</th>\n",
       "      <th>cgpa</th>\n",
       "      <th>gmatQ</th>\n",
       "      <th>cgpaScale</th>\n",
       "      <th>gmatV</th>\n",
       "      <th>univName</th>\n",
       "      <th>admit</th>\n",
       "    </tr>\n",
       "  </thead>\n",
       "  <tbody>\n",
       "    <tr>\n",
       "      <th>0</th>\n",
       "      <td>Systems and Control</td>\n",
       "      <td>0</td>\n",
       "      <td>18</td>\n",
       "      <td>Robotics</td>\n",
       "      <td>112.0</td>\n",
       "      <td>MS</td>\n",
       "      <td>Instrumentation &amp; Control</td>\n",
       "      <td>5.0</td>\n",
       "      <td>160.0</td>\n",
       "      <td>167.0</td>\n",
       "      <td>...</td>\n",
       "      <td>8.9</td>\n",
       "      <td>0</td>\n",
       "      <td>Dharamsinh Desai University</td>\n",
       "      <td>NaN</td>\n",
       "      <td>8.50</td>\n",
       "      <td>NaN</td>\n",
       "      <td>10</td>\n",
       "      <td>NaN</td>\n",
       "      <td>Worcester Polytechnic Institute</td>\n",
       "      <td>1</td>\n",
       "    </tr>\n",
       "    <tr>\n",
       "      <th>1</th>\n",
       "      <td>Manufacturing Engineering</td>\n",
       "      <td>0</td>\n",
       "      <td>0</td>\n",
       "      <td>NaN</td>\n",
       "      <td>NaN</td>\n",
       "      <td>MS</td>\n",
       "      <td>0</td>\n",
       "      <td>0.0</td>\n",
       "      <td>NaN</td>\n",
       "      <td>NaN</td>\n",
       "      <td>...</td>\n",
       "      <td>0.0</td>\n",
       "      <td>0</td>\n",
       "      <td>NaN</td>\n",
       "      <td>NaN</td>\n",
       "      <td>0.00</td>\n",
       "      <td>NaN</td>\n",
       "      <td>0</td>\n",
       "      <td>NaN</td>\n",
       "      <td>Worcester Polytechnic Institute</td>\n",
       "      <td>1</td>\n",
       "    </tr>\n",
       "    <tr>\n",
       "      <th>2</th>\n",
       "      <td>(MIS / MSIM / MSIS / MSIT)</td>\n",
       "      <td>0</td>\n",
       "      <td>66</td>\n",
       "      <td>NaN</td>\n",
       "      <td>94.0</td>\n",
       "      <td>MS</td>\n",
       "      <td>Computer Engineering</td>\n",
       "      <td>0.0</td>\n",
       "      <td>146.0</td>\n",
       "      <td>157.0</td>\n",
       "      <td>...</td>\n",
       "      <td>81.0</td>\n",
       "      <td>0</td>\n",
       "      <td>IET DAVV</td>\n",
       "      <td>NaN</td>\n",
       "      <td>78.28</td>\n",
       "      <td>NaN</td>\n",
       "      <td>100</td>\n",
       "      <td>NaN</td>\n",
       "      <td>Worcester Polytechnic Institute</td>\n",
       "      <td>1</td>\n",
       "    </tr>\n",
       "    <tr>\n",
       "      <th>3</th>\n",
       "      <td>NaN</td>\n",
       "      <td>0</td>\n",
       "      <td>0</td>\n",
       "      <td>NaN</td>\n",
       "      <td>NaN</td>\n",
       "      <td>NaN</td>\n",
       "      <td>0</td>\n",
       "      <td>0.0</td>\n",
       "      <td>NaN</td>\n",
       "      <td>NaN</td>\n",
       "      <td>...</td>\n",
       "      <td>0.0</td>\n",
       "      <td>NaN</td>\n",
       "      <td>NaN</td>\n",
       "      <td>NaN</td>\n",
       "      <td>0.00</td>\n",
       "      <td>NaN</td>\n",
       "      <td>0</td>\n",
       "      <td>NaN</td>\n",
       "      <td>Worcester Polytechnic Institute</td>\n",
       "      <td>1</td>\n",
       "    </tr>\n",
       "    <tr>\n",
       "      <th>4</th>\n",
       "      <td>MIS</td>\n",
       "      <td>0</td>\n",
       "      <td>0</td>\n",
       "      <td>NaN</td>\n",
       "      <td>81.0</td>\n",
       "      <td>MS</td>\n",
       "      <td>computer</td>\n",
       "      <td>0.0</td>\n",
       "      <td>420.0</td>\n",
       "      <td>770.0</td>\n",
       "      <td>...</td>\n",
       "      <td>70.0</td>\n",
       "      <td>0</td>\n",
       "      <td>Pune University</td>\n",
       "      <td>NaN</td>\n",
       "      <td>57.00</td>\n",
       "      <td>NaN</td>\n",
       "      <td>100</td>\n",
       "      <td>NaN</td>\n",
       "      <td>Worcester Polytechnic Institute</td>\n",
       "      <td>1</td>\n",
       "    </tr>\n",
       "  </tbody>\n",
       "</table>\n",
       "<p>5 rows × 23 columns</p>\n",
       "</div>"
      ],
      "text/plain": [
       "                        major  researchExp  industryExp specialization  \\\n",
       "0         Systems and Control            0           18       Robotics   \n",
       "1   Manufacturing Engineering            0            0            NaN   \n",
       "2  (MIS / MSIM / MSIS / MSIT)            0           66            NaN   \n",
       "3                         NaN            0            0            NaN   \n",
       "4                         MIS            0            0            NaN   \n",
       "\n",
       "   toeflScore program                 department  internExp   greV   greQ  \\\n",
       "0       112.0      MS  Instrumentation & Control        5.0  160.0  167.0   \n",
       "1         NaN      MS                          0        0.0    NaN    NaN   \n",
       "2        94.0      MS       Computer Engineering        0.0  146.0  157.0   \n",
       "3         NaN     NaN                          0        0.0    NaN    NaN   \n",
       "4        81.0      MS                   computer        0.0  420.0  770.0   \n",
       "\n",
       "   ... topperCgpa confPubs                    ugCollege  gmatA   cgpa gmatQ  \\\n",
       "0  ...        8.9        0  Dharamsinh Desai University    NaN   8.50   NaN   \n",
       "1  ...        0.0        0                          NaN    NaN   0.00   NaN   \n",
       "2  ...       81.0        0                     IET DAVV    NaN  78.28   NaN   \n",
       "3  ...        0.0      NaN                          NaN    NaN   0.00   NaN   \n",
       "4  ...       70.0        0              Pune University    NaN  57.00   NaN   \n",
       "\n",
       "   cgpaScale  gmatV                         univName  admit  \n",
       "0         10    NaN  Worcester Polytechnic Institute      1  \n",
       "1          0    NaN  Worcester Polytechnic Institute      1  \n",
       "2        100    NaN  Worcester Polytechnic Institute      1  \n",
       "3          0    NaN  Worcester Polytechnic Institute      1  \n",
       "4        100    NaN  Worcester Polytechnic Institute      1  \n",
       "\n",
       "[5 rows x 23 columns]"
      ]
     },
     "execution_count": 17,
     "metadata": {},
     "output_type": "execute_result"
    }
   ],
   "source": [
    "x_train.head() #Analysing the first five columns again"
   ]
  },
  {
   "cell_type": "code",
   "execution_count": 18,
   "metadata": {},
   "outputs": [],
   "source": [
    "x_train = x_train.drop('userProfileLink',1,inplace = False) # userProfileLink is dropped."
   ]
  },
  {
   "cell_type": "code",
   "execution_count": 19,
   "metadata": {},
   "outputs": [
    {
     "data": {
      "text/html": [
       "<div>\n",
       "<style scoped>\n",
       "    .dataframe tbody tr th:only-of-type {\n",
       "        vertical-align: middle;\n",
       "    }\n",
       "\n",
       "    .dataframe tbody tr th {\n",
       "        vertical-align: top;\n",
       "    }\n",
       "\n",
       "    .dataframe thead th {\n",
       "        text-align: right;\n",
       "    }\n",
       "</style>\n",
       "<table border=\"1\" class=\"dataframe\">\n",
       "  <thead>\n",
       "    <tr style=\"text-align: right;\">\n",
       "      <th></th>\n",
       "      <th>major</th>\n",
       "      <th>researchExp</th>\n",
       "      <th>industryExp</th>\n",
       "      <th>specialization</th>\n",
       "      <th>toeflScore</th>\n",
       "      <th>program</th>\n",
       "      <th>department</th>\n",
       "      <th>internExp</th>\n",
       "      <th>greV</th>\n",
       "      <th>greQ</th>\n",
       "      <th>...</th>\n",
       "      <th>topperCgpa</th>\n",
       "      <th>confPubs</th>\n",
       "      <th>ugCollege</th>\n",
       "      <th>gmatA</th>\n",
       "      <th>cgpa</th>\n",
       "      <th>gmatQ</th>\n",
       "      <th>cgpaScale</th>\n",
       "      <th>gmatV</th>\n",
       "      <th>univName</th>\n",
       "      <th>admit</th>\n",
       "    </tr>\n",
       "  </thead>\n",
       "  <tbody>\n",
       "    <tr>\n",
       "      <th>0</th>\n",
       "      <td>Systems and Control</td>\n",
       "      <td>0</td>\n",
       "      <td>18</td>\n",
       "      <td>Robotics</td>\n",
       "      <td>112.0</td>\n",
       "      <td>MS</td>\n",
       "      <td>Instrumentation &amp; Control</td>\n",
       "      <td>5.0</td>\n",
       "      <td>160.0</td>\n",
       "      <td>167.0</td>\n",
       "      <td>...</td>\n",
       "      <td>8.9</td>\n",
       "      <td>0</td>\n",
       "      <td>Dharamsinh Desai University</td>\n",
       "      <td>NaN</td>\n",
       "      <td>8.50</td>\n",
       "      <td>NaN</td>\n",
       "      <td>10</td>\n",
       "      <td>NaN</td>\n",
       "      <td>Worcester Polytechnic Institute</td>\n",
       "      <td>1</td>\n",
       "    </tr>\n",
       "    <tr>\n",
       "      <th>1</th>\n",
       "      <td>Manufacturing Engineering</td>\n",
       "      <td>0</td>\n",
       "      <td>0</td>\n",
       "      <td>NaN</td>\n",
       "      <td>NaN</td>\n",
       "      <td>MS</td>\n",
       "      <td>0</td>\n",
       "      <td>0.0</td>\n",
       "      <td>NaN</td>\n",
       "      <td>NaN</td>\n",
       "      <td>...</td>\n",
       "      <td>0.0</td>\n",
       "      <td>0</td>\n",
       "      <td>NaN</td>\n",
       "      <td>NaN</td>\n",
       "      <td>0.00</td>\n",
       "      <td>NaN</td>\n",
       "      <td>0</td>\n",
       "      <td>NaN</td>\n",
       "      <td>Worcester Polytechnic Institute</td>\n",
       "      <td>1</td>\n",
       "    </tr>\n",
       "    <tr>\n",
       "      <th>2</th>\n",
       "      <td>(MIS / MSIM / MSIS / MSIT)</td>\n",
       "      <td>0</td>\n",
       "      <td>66</td>\n",
       "      <td>NaN</td>\n",
       "      <td>94.0</td>\n",
       "      <td>MS</td>\n",
       "      <td>Computer Engineering</td>\n",
       "      <td>0.0</td>\n",
       "      <td>146.0</td>\n",
       "      <td>157.0</td>\n",
       "      <td>...</td>\n",
       "      <td>81.0</td>\n",
       "      <td>0</td>\n",
       "      <td>IET DAVV</td>\n",
       "      <td>NaN</td>\n",
       "      <td>78.28</td>\n",
       "      <td>NaN</td>\n",
       "      <td>100</td>\n",
       "      <td>NaN</td>\n",
       "      <td>Worcester Polytechnic Institute</td>\n",
       "      <td>1</td>\n",
       "    </tr>\n",
       "    <tr>\n",
       "      <th>3</th>\n",
       "      <td>NaN</td>\n",
       "      <td>0</td>\n",
       "      <td>0</td>\n",
       "      <td>NaN</td>\n",
       "      <td>NaN</td>\n",
       "      <td>NaN</td>\n",
       "      <td>0</td>\n",
       "      <td>0.0</td>\n",
       "      <td>NaN</td>\n",
       "      <td>NaN</td>\n",
       "      <td>...</td>\n",
       "      <td>0.0</td>\n",
       "      <td>NaN</td>\n",
       "      <td>NaN</td>\n",
       "      <td>NaN</td>\n",
       "      <td>0.00</td>\n",
       "      <td>NaN</td>\n",
       "      <td>0</td>\n",
       "      <td>NaN</td>\n",
       "      <td>Worcester Polytechnic Institute</td>\n",
       "      <td>1</td>\n",
       "    </tr>\n",
       "    <tr>\n",
       "      <th>4</th>\n",
       "      <td>MIS</td>\n",
       "      <td>0</td>\n",
       "      <td>0</td>\n",
       "      <td>NaN</td>\n",
       "      <td>81.0</td>\n",
       "      <td>MS</td>\n",
       "      <td>computer</td>\n",
       "      <td>0.0</td>\n",
       "      <td>420.0</td>\n",
       "      <td>770.0</td>\n",
       "      <td>...</td>\n",
       "      <td>70.0</td>\n",
       "      <td>0</td>\n",
       "      <td>Pune University</td>\n",
       "      <td>NaN</td>\n",
       "      <td>57.00</td>\n",
       "      <td>NaN</td>\n",
       "      <td>100</td>\n",
       "      <td>NaN</td>\n",
       "      <td>Worcester Polytechnic Institute</td>\n",
       "      <td>1</td>\n",
       "    </tr>\n",
       "  </tbody>\n",
       "</table>\n",
       "<p>5 rows × 22 columns</p>\n",
       "</div>"
      ],
      "text/plain": [
       "                        major  researchExp  industryExp specialization  \\\n",
       "0         Systems and Control            0           18       Robotics   \n",
       "1   Manufacturing Engineering            0            0            NaN   \n",
       "2  (MIS / MSIM / MSIS / MSIT)            0           66            NaN   \n",
       "3                         NaN            0            0            NaN   \n",
       "4                         MIS            0            0            NaN   \n",
       "\n",
       "   toeflScore program                 department  internExp   greV   greQ  \\\n",
       "0       112.0      MS  Instrumentation & Control        5.0  160.0  167.0   \n",
       "1         NaN      MS                          0        0.0    NaN    NaN   \n",
       "2        94.0      MS       Computer Engineering        0.0  146.0  157.0   \n",
       "3         NaN     NaN                          0        0.0    NaN    NaN   \n",
       "4        81.0      MS                   computer        0.0  420.0  770.0   \n",
       "\n",
       "   ... topperCgpa  confPubs                    ugCollege gmatA   cgpa  gmatQ  \\\n",
       "0  ...        8.9         0  Dharamsinh Desai University   NaN   8.50    NaN   \n",
       "1  ...        0.0         0                          NaN   NaN   0.00    NaN   \n",
       "2  ...       81.0         0                     IET DAVV   NaN  78.28    NaN   \n",
       "3  ...        0.0       NaN                          NaN   NaN   0.00    NaN   \n",
       "4  ...       70.0         0              Pune University   NaN  57.00    NaN   \n",
       "\n",
       "   cgpaScale  gmatV                         univName  admit  \n",
       "0         10    NaN  Worcester Polytechnic Institute      1  \n",
       "1          0    NaN  Worcester Polytechnic Institute      1  \n",
       "2        100    NaN  Worcester Polytechnic Institute      1  \n",
       "3          0    NaN  Worcester Polytechnic Institute      1  \n",
       "4        100    NaN  Worcester Polytechnic Institute      1  \n",
       "\n",
       "[5 rows x 22 columns]"
      ]
     },
     "execution_count": 19,
     "metadata": {},
     "output_type": "execute_result"
    }
   ],
   "source": [
    "x_train.head() #Analysing the data in the table format"
   ]
  },
  {
   "cell_type": "code",
   "execution_count": 20,
   "metadata": {},
   "outputs": [
    {
     "data": {
      "text/plain": [
       "(53644, 22)"
      ]
     },
     "execution_count": 20,
     "metadata": {},
     "output_type": "execute_result"
    }
   ],
   "source": [
    "x_train.shape # checking the number of columns again."
   ]
  },
  {
   "cell_type": "code",
   "execution_count": 21,
   "metadata": {},
   "outputs": [
    {
     "name": "stdout",
     "output_type": "stream",
     "text": [
      "major\n",
      "researchExp\n",
      "industryExp\n",
      "specialization\n",
      "toeflScore\n",
      "program\n",
      "department\n",
      "internExp\n",
      "greV\n",
      "greQ\n",
      "journalPubs\n",
      "greA\n",
      "topperCgpa\n",
      "confPubs\n",
      "ugCollege\n",
      "gmatA\n",
      "cgpa\n",
      "gmatQ\n",
      "cgpaScale\n",
      "gmatV\n",
      "univName\n",
      "admit\n"
     ]
    }
   ],
   "source": [
    "for m in x_train.columns:  #checking total attributes till now\n",
    "    print(m)"
   ]
  },
  {
   "cell_type": "code",
   "execution_count": 22,
   "metadata": {},
   "outputs": [],
   "source": [
    "x_train.dropna(subset=['greV'],inplace = True) #dropping NaN values in the 'greV' column"
   ]
  },
  {
   "cell_type": "code",
   "execution_count": 23,
   "metadata": {},
   "outputs": [
    {
     "data": {
      "text/plain": [
       "0"
      ]
     },
     "execution_count": 23,
     "metadata": {},
     "output_type": "execute_result"
    }
   ],
   "source": [
    "x_train['greV'].isna().sum() #checking for total number of NaN values in greV"
   ]
  },
  {
   "cell_type": "code",
   "execution_count": 24,
   "metadata": {},
   "outputs": [],
   "source": [
    "x_train.dropna(subset=['greA'],inplace = True)#dropping NaN values in the 'greA' column\n",
    "x_train.dropna(subset=['greQ'],inplace = True)#dropping NaN values in the 'greQ' column"
   ]
  },
  {
   "cell_type": "code",
   "execution_count": 25,
   "metadata": {},
   "outputs": [
    {
     "data": {
      "text/plain": [
       "0"
      ]
     },
     "execution_count": 25,
     "metadata": {},
     "output_type": "execute_result"
    }
   ],
   "source": [
    "x_train['greA'].isna().sum()#checking for total number of NaN values in greA"
   ]
  },
  {
   "cell_type": "code",
   "execution_count": 26,
   "metadata": {},
   "outputs": [
    {
     "data": {
      "text/plain": [
       "0"
      ]
     },
     "execution_count": 26,
     "metadata": {},
     "output_type": "execute_result"
    }
   ],
   "source": [
    "x_train['greQ'].isna().sum()#checking for total number of NaN values in greQ"
   ]
  },
  {
   "cell_type": "code",
   "execution_count": 27,
   "metadata": {},
   "outputs": [
    {
     "data": {
      "text/plain": [
       "(50705, 22)"
      ]
     },
     "execution_count": 27,
     "metadata": {},
     "output_type": "execute_result"
    }
   ],
   "source": [
    "x_train.shape #checking number of rows and columns till now"
   ]
  },
  {
   "cell_type": "code",
   "execution_count": 28,
   "metadata": {},
   "outputs": [
    {
     "data": {
      "text/html": [
       "<div>\n",
       "<style scoped>\n",
       "    .dataframe tbody tr th:only-of-type {\n",
       "        vertical-align: middle;\n",
       "    }\n",
       "\n",
       "    .dataframe tbody tr th {\n",
       "        vertical-align: top;\n",
       "    }\n",
       "\n",
       "    .dataframe thead th {\n",
       "        text-align: right;\n",
       "    }\n",
       "</style>\n",
       "<table border=\"1\" class=\"dataframe\">\n",
       "  <thead>\n",
       "    <tr style=\"text-align: right;\">\n",
       "      <th></th>\n",
       "      <th>major</th>\n",
       "      <th>researchExp</th>\n",
       "      <th>industryExp</th>\n",
       "      <th>specialization</th>\n",
       "      <th>toeflScore</th>\n",
       "      <th>program</th>\n",
       "      <th>department</th>\n",
       "      <th>internExp</th>\n",
       "      <th>greV</th>\n",
       "      <th>greQ</th>\n",
       "      <th>...</th>\n",
       "      <th>topperCgpa</th>\n",
       "      <th>confPubs</th>\n",
       "      <th>ugCollege</th>\n",
       "      <th>gmatA</th>\n",
       "      <th>cgpa</th>\n",
       "      <th>gmatQ</th>\n",
       "      <th>cgpaScale</th>\n",
       "      <th>gmatV</th>\n",
       "      <th>univName</th>\n",
       "      <th>admit</th>\n",
       "    </tr>\n",
       "  </thead>\n",
       "  <tbody>\n",
       "    <tr>\n",
       "      <th>0</th>\n",
       "      <td>Systems and Control</td>\n",
       "      <td>0</td>\n",
       "      <td>18</td>\n",
       "      <td>Robotics</td>\n",
       "      <td>112.0</td>\n",
       "      <td>MS</td>\n",
       "      <td>Instrumentation &amp; Control</td>\n",
       "      <td>5.0</td>\n",
       "      <td>160.0</td>\n",
       "      <td>167.0</td>\n",
       "      <td>...</td>\n",
       "      <td>8.90</td>\n",
       "      <td>0</td>\n",
       "      <td>Dharamsinh Desai University</td>\n",
       "      <td>NaN</td>\n",
       "      <td>8.50</td>\n",
       "      <td>NaN</td>\n",
       "      <td>10</td>\n",
       "      <td>NaN</td>\n",
       "      <td>Worcester Polytechnic Institute</td>\n",
       "      <td>1</td>\n",
       "    </tr>\n",
       "    <tr>\n",
       "      <th>2</th>\n",
       "      <td>(MIS / MSIM / MSIS / MSIT)</td>\n",
       "      <td>0</td>\n",
       "      <td>66</td>\n",
       "      <td>NaN</td>\n",
       "      <td>94.0</td>\n",
       "      <td>MS</td>\n",
       "      <td>Computer Engineering</td>\n",
       "      <td>0.0</td>\n",
       "      <td>146.0</td>\n",
       "      <td>157.0</td>\n",
       "      <td>...</td>\n",
       "      <td>81.00</td>\n",
       "      <td>0</td>\n",
       "      <td>IET DAVV</td>\n",
       "      <td>NaN</td>\n",
       "      <td>78.28</td>\n",
       "      <td>NaN</td>\n",
       "      <td>100</td>\n",
       "      <td>NaN</td>\n",
       "      <td>Worcester Polytechnic Institute</td>\n",
       "      <td>1</td>\n",
       "    </tr>\n",
       "    <tr>\n",
       "      <th>4</th>\n",
       "      <td>MIS</td>\n",
       "      <td>0</td>\n",
       "      <td>0</td>\n",
       "      <td>NaN</td>\n",
       "      <td>81.0</td>\n",
       "      <td>MS</td>\n",
       "      <td>computer</td>\n",
       "      <td>0.0</td>\n",
       "      <td>420.0</td>\n",
       "      <td>770.0</td>\n",
       "      <td>...</td>\n",
       "      <td>70.00</td>\n",
       "      <td>0</td>\n",
       "      <td>Pune University</td>\n",
       "      <td>NaN</td>\n",
       "      <td>57.00</td>\n",
       "      <td>NaN</td>\n",
       "      <td>100</td>\n",
       "      <td>NaN</td>\n",
       "      <td>Worcester Polytechnic Institute</td>\n",
       "      <td>1</td>\n",
       "    </tr>\n",
       "    <tr>\n",
       "      <th>5</th>\n",
       "      <td>MIS</td>\n",
       "      <td>0</td>\n",
       "      <td>0</td>\n",
       "      <td>Information Security Management</td>\n",
       "      <td>273.0</td>\n",
       "      <td>MS</td>\n",
       "      <td>CE</td>\n",
       "      <td>0.0</td>\n",
       "      <td>410.0</td>\n",
       "      <td>1010.0</td>\n",
       "      <td>...</td>\n",
       "      <td>75.00</td>\n",
       "      <td>0</td>\n",
       "      <td>Thadomal Shahani Engineering College</td>\n",
       "      <td>NaN</td>\n",
       "      <td>52.00</td>\n",
       "      <td>NaN</td>\n",
       "      <td>100</td>\n",
       "      <td>NaN</td>\n",
       "      <td>Worcester Polytechnic Institute</td>\n",
       "      <td>1</td>\n",
       "    </tr>\n",
       "    <tr>\n",
       "      <th>6</th>\n",
       "      <td>MIS</td>\n",
       "      <td>0</td>\n",
       "      <td>0</td>\n",
       "      <td>Business Analytics</td>\n",
       "      <td>104.0</td>\n",
       "      <td>MS</td>\n",
       "      <td>Computer Engineering</td>\n",
       "      <td>0.0</td>\n",
       "      <td>150.0</td>\n",
       "      <td>161.0</td>\n",
       "      <td>...</td>\n",
       "      <td>77.81</td>\n",
       "      <td>0</td>\n",
       "      <td>University of Mumbai</td>\n",
       "      <td>NaN</td>\n",
       "      <td>62.20</td>\n",
       "      <td>NaN</td>\n",
       "      <td>100</td>\n",
       "      <td>NaN</td>\n",
       "      <td>Worcester Polytechnic Institute</td>\n",
       "      <td>1</td>\n",
       "    </tr>\n",
       "  </tbody>\n",
       "</table>\n",
       "<p>5 rows × 22 columns</p>\n",
       "</div>"
      ],
      "text/plain": [
       "                        major  researchExp  industryExp  \\\n",
       "0         Systems and Control            0           18   \n",
       "2  (MIS / MSIM / MSIS / MSIT)            0           66   \n",
       "4                         MIS            0            0   \n",
       "5                         MIS            0            0   \n",
       "6                         MIS            0            0   \n",
       "\n",
       "                    specialization  toeflScore program  \\\n",
       "0                         Robotics       112.0      MS   \n",
       "2                              NaN        94.0      MS   \n",
       "4                              NaN        81.0      MS   \n",
       "5  Information Security Management       273.0      MS   \n",
       "6               Business Analytics       104.0      MS   \n",
       "\n",
       "                  department  internExp   greV    greQ  ... topperCgpa  \\\n",
       "0  Instrumentation & Control        5.0  160.0   167.0  ...       8.90   \n",
       "2       Computer Engineering        0.0  146.0   157.0  ...      81.00   \n",
       "4                   computer        0.0  420.0   770.0  ...      70.00   \n",
       "5                         CE        0.0  410.0  1010.0  ...      75.00   \n",
       "6       Computer Engineering        0.0  150.0   161.0  ...      77.81   \n",
       "\n",
       "   confPubs                             ugCollege gmatA   cgpa  gmatQ  \\\n",
       "0         0           Dharamsinh Desai University   NaN   8.50    NaN   \n",
       "2         0                              IET DAVV   NaN  78.28    NaN   \n",
       "4         0                       Pune University   NaN  57.00    NaN   \n",
       "5         0  Thadomal Shahani Engineering College   NaN  52.00    NaN   \n",
       "6         0                  University of Mumbai   NaN  62.20    NaN   \n",
       "\n",
       "   cgpaScale  gmatV                         univName  admit  \n",
       "0         10    NaN  Worcester Polytechnic Institute      1  \n",
       "2        100    NaN  Worcester Polytechnic Institute      1  \n",
       "4        100    NaN  Worcester Polytechnic Institute      1  \n",
       "5        100    NaN  Worcester Polytechnic Institute      1  \n",
       "6        100    NaN  Worcester Polytechnic Institute      1  \n",
       "\n",
       "[5 rows x 22 columns]"
      ]
     },
     "execution_count": 28,
     "metadata": {},
     "output_type": "execute_result"
    }
   ],
   "source": [
    "x_train.head() #Analysing the first five entries again"
   ]
  },
  {
   "cell_type": "code",
   "execution_count": 29,
   "metadata": {},
   "outputs": [
    {
     "data": {
      "text/plain": [
       "array(['MS', 'PhD', 'Both MS and PhD', 'MS/PhD'], dtype=object)"
      ]
     },
     "execution_count": 29,
     "metadata": {},
     "output_type": "execute_result"
    }
   ],
   "source": [
    "x_train['program'].unique()  #finding out the unique values in the 'program' column"
   ]
  },
  {
   "cell_type": "code",
   "execution_count": 30,
   "metadata": {},
   "outputs": [],
   "source": [
    "x_train = x_train.drop('gmatA',1,inplace = False)  #no MBA candidates hence drop "
   ]
  },
  {
   "cell_type": "code",
   "execution_count": 31,
   "metadata": {},
   "outputs": [],
   "source": [
    "x_train = x_train.drop('gmatQ',1,inplace = False) #no MBA candidates hence drop"
   ]
  },
  {
   "cell_type": "code",
   "execution_count": 32,
   "metadata": {},
   "outputs": [],
   "source": [
    "x_train = x_train.drop('gmatV',1,inplace = False) #no MBA candidates hence drop"
   ]
  },
  {
   "cell_type": "code",
   "execution_count": 33,
   "metadata": {},
   "outputs": [
    {
     "data": {
      "text/plain": [
       "(50705, 19)"
      ]
     },
     "execution_count": 33,
     "metadata": {},
     "output_type": "execute_result"
    }
   ],
   "source": [
    "x_train.shape #checking total number of rows and columns left"
   ]
  },
  {
   "cell_type": "code",
   "execution_count": 34,
   "metadata": {},
   "outputs": [
    {
     "data": {
      "text/html": [
       "<div>\n",
       "<style scoped>\n",
       "    .dataframe tbody tr th:only-of-type {\n",
       "        vertical-align: middle;\n",
       "    }\n",
       "\n",
       "    .dataframe tbody tr th {\n",
       "        vertical-align: top;\n",
       "    }\n",
       "\n",
       "    .dataframe thead th {\n",
       "        text-align: right;\n",
       "    }\n",
       "</style>\n",
       "<table border=\"1\" class=\"dataframe\">\n",
       "  <thead>\n",
       "    <tr style=\"text-align: right;\">\n",
       "      <th></th>\n",
       "      <th>major</th>\n",
       "      <th>researchExp</th>\n",
       "      <th>industryExp</th>\n",
       "      <th>specialization</th>\n",
       "      <th>toeflScore</th>\n",
       "      <th>program</th>\n",
       "      <th>department</th>\n",
       "      <th>internExp</th>\n",
       "      <th>greV</th>\n",
       "      <th>greQ</th>\n",
       "      <th>journalPubs</th>\n",
       "      <th>greA</th>\n",
       "      <th>topperCgpa</th>\n",
       "      <th>confPubs</th>\n",
       "      <th>ugCollege</th>\n",
       "      <th>cgpa</th>\n",
       "      <th>cgpaScale</th>\n",
       "      <th>univName</th>\n",
       "      <th>admit</th>\n",
       "    </tr>\n",
       "  </thead>\n",
       "  <tbody>\n",
       "    <tr>\n",
       "      <th>0</th>\n",
       "      <td>Systems and Control</td>\n",
       "      <td>0</td>\n",
       "      <td>18</td>\n",
       "      <td>Robotics</td>\n",
       "      <td>112.0</td>\n",
       "      <td>MS</td>\n",
       "      <td>Instrumentation &amp; Control</td>\n",
       "      <td>5.0</td>\n",
       "      <td>160.0</td>\n",
       "      <td>167.0</td>\n",
       "      <td>0</td>\n",
       "      <td>4.5</td>\n",
       "      <td>8.90</td>\n",
       "      <td>0</td>\n",
       "      <td>Dharamsinh Desai University</td>\n",
       "      <td>8.50</td>\n",
       "      <td>10</td>\n",
       "      <td>Worcester Polytechnic Institute</td>\n",
       "      <td>1</td>\n",
       "    </tr>\n",
       "    <tr>\n",
       "      <th>2</th>\n",
       "      <td>(MIS / MSIM / MSIS / MSIT)</td>\n",
       "      <td>0</td>\n",
       "      <td>66</td>\n",
       "      <td>NaN</td>\n",
       "      <td>94.0</td>\n",
       "      <td>MS</td>\n",
       "      <td>Computer Engineering</td>\n",
       "      <td>0.0</td>\n",
       "      <td>146.0</td>\n",
       "      <td>157.0</td>\n",
       "      <td>0</td>\n",
       "      <td>3.0</td>\n",
       "      <td>81.00</td>\n",
       "      <td>0</td>\n",
       "      <td>IET DAVV</td>\n",
       "      <td>78.28</td>\n",
       "      <td>100</td>\n",
       "      <td>Worcester Polytechnic Institute</td>\n",
       "      <td>1</td>\n",
       "    </tr>\n",
       "    <tr>\n",
       "      <th>4</th>\n",
       "      <td>MIS</td>\n",
       "      <td>0</td>\n",
       "      <td>0</td>\n",
       "      <td>NaN</td>\n",
       "      <td>81.0</td>\n",
       "      <td>MS</td>\n",
       "      <td>computer</td>\n",
       "      <td>0.0</td>\n",
       "      <td>420.0</td>\n",
       "      <td>770.0</td>\n",
       "      <td>0</td>\n",
       "      <td>2.5</td>\n",
       "      <td>70.00</td>\n",
       "      <td>0</td>\n",
       "      <td>Pune University</td>\n",
       "      <td>57.00</td>\n",
       "      <td>100</td>\n",
       "      <td>Worcester Polytechnic Institute</td>\n",
       "      <td>1</td>\n",
       "    </tr>\n",
       "    <tr>\n",
       "      <th>5</th>\n",
       "      <td>MIS</td>\n",
       "      <td>0</td>\n",
       "      <td>0</td>\n",
       "      <td>Information Security Management</td>\n",
       "      <td>273.0</td>\n",
       "      <td>MS</td>\n",
       "      <td>CE</td>\n",
       "      <td>0.0</td>\n",
       "      <td>410.0</td>\n",
       "      <td>1010.0</td>\n",
       "      <td>0</td>\n",
       "      <td>600.0</td>\n",
       "      <td>75.00</td>\n",
       "      <td>0</td>\n",
       "      <td>Thadomal Shahani Engineering College</td>\n",
       "      <td>52.00</td>\n",
       "      <td>100</td>\n",
       "      <td>Worcester Polytechnic Institute</td>\n",
       "      <td>1</td>\n",
       "    </tr>\n",
       "    <tr>\n",
       "      <th>6</th>\n",
       "      <td>MIS</td>\n",
       "      <td>0</td>\n",
       "      <td>0</td>\n",
       "      <td>Business Analytics</td>\n",
       "      <td>104.0</td>\n",
       "      <td>MS</td>\n",
       "      <td>Computer Engineering</td>\n",
       "      <td>0.0</td>\n",
       "      <td>150.0</td>\n",
       "      <td>161.0</td>\n",
       "      <td>0</td>\n",
       "      <td>4.5</td>\n",
       "      <td>77.81</td>\n",
       "      <td>0</td>\n",
       "      <td>University of Mumbai</td>\n",
       "      <td>62.20</td>\n",
       "      <td>100</td>\n",
       "      <td>Worcester Polytechnic Institute</td>\n",
       "      <td>1</td>\n",
       "    </tr>\n",
       "  </tbody>\n",
       "</table>\n",
       "</div>"
      ],
      "text/plain": [
       "                        major  researchExp  industryExp  \\\n",
       "0         Systems and Control            0           18   \n",
       "2  (MIS / MSIM / MSIS / MSIT)            0           66   \n",
       "4                         MIS            0            0   \n",
       "5                         MIS            0            0   \n",
       "6                         MIS            0            0   \n",
       "\n",
       "                    specialization  toeflScore program  \\\n",
       "0                         Robotics       112.0      MS   \n",
       "2                              NaN        94.0      MS   \n",
       "4                              NaN        81.0      MS   \n",
       "5  Information Security Management       273.0      MS   \n",
       "6               Business Analytics       104.0      MS   \n",
       "\n",
       "                  department  internExp   greV    greQ journalPubs   greA  \\\n",
       "0  Instrumentation & Control        5.0  160.0   167.0           0    4.5   \n",
       "2       Computer Engineering        0.0  146.0   157.0           0    3.0   \n",
       "4                   computer        0.0  420.0   770.0           0    2.5   \n",
       "5                         CE        0.0  410.0  1010.0           0  600.0   \n",
       "6       Computer Engineering        0.0  150.0   161.0           0    4.5   \n",
       "\n",
       "   topperCgpa confPubs                             ugCollege   cgpa  \\\n",
       "0        8.90        0           Dharamsinh Desai University   8.50   \n",
       "2       81.00        0                              IET DAVV  78.28   \n",
       "4       70.00        0                       Pune University  57.00   \n",
       "5       75.00        0  Thadomal Shahani Engineering College  52.00   \n",
       "6       77.81        0                  University of Mumbai  62.20   \n",
       "\n",
       "   cgpaScale                         univName  admit  \n",
       "0         10  Worcester Polytechnic Institute      1  \n",
       "2        100  Worcester Polytechnic Institute      1  \n",
       "4        100  Worcester Polytechnic Institute      1  \n",
       "5        100  Worcester Polytechnic Institute      1  \n",
       "6        100  Worcester Polytechnic Institute      1  "
      ]
     },
     "execution_count": 34,
     "metadata": {},
     "output_type": "execute_result"
    }
   ],
   "source": [
    "x_train.head() #Analysing the first five entries again"
   ]
  },
  {
   "cell_type": "code",
   "execution_count": 35,
   "metadata": {},
   "outputs": [
    {
     "data": {
      "text/plain": [
       "0"
      ]
     },
     "execution_count": 35,
     "metadata": {},
     "output_type": "execute_result"
    }
   ],
   "source": [
    "x_train['cgpa'].isna().sum() #checking for NaN values in 'cgpa' column"
   ]
  },
  {
   "cell_type": "code",
   "execution_count": 36,
   "metadata": {},
   "outputs": [
    {
     "data": {
      "text/plain": [
       "3007"
      ]
     },
     "execution_count": 36,
     "metadata": {},
     "output_type": "execute_result"
    }
   ],
   "source": [
    "x_train['toeflScore'].isna().sum() #checking for NaN values in 'toeflScore' column"
   ]
  },
  {
   "cell_type": "code",
   "execution_count": 37,
   "metadata": {},
   "outputs": [],
   "source": [
    "#toefl depends on college to college and is only taken when a non-english speaking student wants to take admission abroad.\n",
    "#hence we can drop this.\n",
    "x_train = x_train.drop('toeflScore',1,inplace = False)"
   ]
  },
  {
   "cell_type": "code",
   "execution_count": 38,
   "metadata": {},
   "outputs": [
    {
     "data": {
      "text/plain": [
       "(50705, 18)"
      ]
     },
     "execution_count": 38,
     "metadata": {},
     "output_type": "execute_result"
    }
   ],
   "source": [
    "x_train.shape #checking the number of columns"
   ]
  },
  {
   "cell_type": "code",
   "execution_count": 39,
   "metadata": {},
   "outputs": [
    {
     "data": {
      "text/plain": [
       "14"
      ]
     },
     "execution_count": 39,
     "metadata": {},
     "output_type": "execute_result"
    }
   ],
   "source": [
    "x_train['internExp'].isna().sum() #checking for NaN values in 'internExp' column"
   ]
  },
  {
   "cell_type": "code",
   "execution_count": 40,
   "metadata": {},
   "outputs": [],
   "source": [
    "def impute_internExp():  #replacing NaN values with 0 because NaN means student has no intern Experience.\n",
    "    global x_train\n",
    "    x_train['internExp'].fillna(0,inplace=True)"
   ]
  },
  {
   "cell_type": "code",
   "execution_count": 41,
   "metadata": {},
   "outputs": [],
   "source": [
    "impute_internExp()  #calling the function"
   ]
  },
  {
   "cell_type": "code",
   "execution_count": 42,
   "metadata": {},
   "outputs": [
    {
     "data": {
      "text/plain": [
       "0"
      ]
     },
     "execution_count": 42,
     "metadata": {},
     "output_type": "execute_result"
    }
   ],
   "source": [
    "x_train['internExp'].isna().sum() #NaN values turned to 0 i.e, \"no intern Experience\", checking NaN values in 'internExp'"
   ]
  },
  {
   "cell_type": "code",
   "execution_count": 43,
   "metadata": {},
   "outputs": [
    {
     "data": {
      "text/plain": [
       "3"
      ]
     },
     "execution_count": 43,
     "metadata": {},
     "output_type": "execute_result"
    }
   ],
   "source": [
    "x_train['topperCgpa'].isna().sum() #checking for NaN values in 'topperCgpa' column"
   ]
  },
  {
   "cell_type": "code",
   "execution_count": 44,
   "metadata": {},
   "outputs": [
    {
     "data": {
      "text/plain": [
       "array([ 10, 100,   0,   4,   5], dtype=int64)"
      ]
     },
     "execution_count": 44,
     "metadata": {},
     "output_type": "execute_result"
    }
   ],
   "source": [
    "x_train['cgpaScale'].unique() #checking for unique values in 'cgpaScale' column"
   ]
  },
  {
   "cell_type": "code",
   "execution_count": 45,
   "metadata": {},
   "outputs": [],
   "source": [
    "def compute_cgpa(): # scaling cgpa to 10 with its respective cgpaScale since different cgpa's has different scales.\n",
    "    global x_train\n",
    "    for i in range(0,len(x_train['cgpa'])):\n",
    "        if(x_train['cgpaScale'].iloc[i]==0):\n",
    "            x_train['cgpa'].iloc[i]=0\n",
    "        else:\n",
    "            x_train['cgpa'].iloc[i] = (x_train['cgpa'].iloc[i]/x_train['cgpaScale'].iloc[i])*10      "
   ]
  },
  {
   "cell_type": "code",
   "execution_count": 46,
   "metadata": {},
   "outputs": [
    {
     "name": "stderr",
     "output_type": "stream",
     "text": [
      "F:\\New folder (2)\\lib\\site-packages\\pandas\\core\\indexing.py:670: SettingWithCopyWarning: \n",
      "A value is trying to be set on a copy of a slice from a DataFrame\n",
      "\n",
      "See the caveats in the documentation: https://pandas.pydata.org/pandas-docs/stable/user_guide/indexing.html#returning-a-view-versus-a-copy\n",
      "  self._setitem_with_indexer(indexer, value)\n"
     ]
    }
   ],
   "source": [
    "compute_cgpa() #calling the function"
   ]
  },
  {
   "cell_type": "code",
   "execution_count": 48,
   "metadata": {},
   "outputs": [
    {
     "name": "stdout",
     "output_type": "stream",
     "text": [
      "7.476605415245045\n"
     ]
    }
   ],
   "source": [
    "# computing the avg value of 'cgpa' column\n",
    "def impute_cgpa():\n",
    "    global x_train\n",
    "    avg = x_train['cgpa'].sum()/len(x_train)\n",
    "    print(avg)\n",
    "impute_cgpa()    "
   ]
  },
  {
   "cell_type": "code",
   "execution_count": 49,
   "metadata": {},
   "outputs": [],
   "source": [
    "def compute_topperCgpa():  #scaling the topperCgpa to 10 with its respective cgpaScale\n",
    "    global x_train\n",
    "    for i in range(0,len(x_train['topperCgpa'])):\n",
    "        if(np.isnan(x_train['topperCgpa'].iloc[i])):\n",
    "            continue\n",
    "        elif(x_train['cgpaScale'].iloc[i]==0):\n",
    "            x_train['topperCgpa'].iloc[i]=0\n",
    "        else:\n",
    "            x_train['topperCgpa'].iloc[i] = (x_train['topperCgpa'].iloc[i]/x_train['cgpaScale'].iloc[i])*10      "
   ]
  },
  {
   "cell_type": "code",
   "execution_count": 50,
   "metadata": {},
   "outputs": [],
   "source": [
    "compute_topperCgpa() #calling the function"
   ]
  },
  {
   "cell_type": "code",
   "execution_count": 52,
   "metadata": {},
   "outputs": [],
   "source": [
    "# filling the average value in place of NaN\n",
    "def impute_topperCgpa():\n",
    "    global x_train\n",
    "    avg = x_train['topperCgpa'].sum()/len(x_train)\n",
    "    x_train['topperCgpa'].fillna(avg,inplace=True)\n",
    "impute_topperCgpa()    "
   ]
  },
  {
   "cell_type": "code",
   "execution_count": 53,
   "metadata": {},
   "outputs": [
    {
     "data": {
      "text/plain": [
       "0"
      ]
     },
     "execution_count": 53,
     "metadata": {},
     "output_type": "execute_result"
    }
   ],
   "source": [
    "x_train['topperCgpa'].isna().sum() #no NaN values left in 'topperCgpa' column"
   ]
  },
  {
   "cell_type": "code",
   "execution_count": 54,
   "metadata": {},
   "outputs": [],
   "source": [
    "x_train = x_train.drop('cgpaScale',1,inplace = False) #no futher use of cgpa scale, hence we drop it"
   ]
  },
  {
   "cell_type": "code",
   "execution_count": 55,
   "metadata": {},
   "outputs": [
    {
     "data": {
      "text/plain": [
       "(50705, 17)"
      ]
     },
     "execution_count": 55,
     "metadata": {},
     "output_type": "execute_result"
    }
   ],
   "source": [
    "x_train.shape  #checking the number of rows and columns"
   ]
  },
  {
   "cell_type": "code",
   "execution_count": 56,
   "metadata": {},
   "outputs": [],
   "source": [
    "def compute_journalPubs(): #removing NaN values from 'journalPubs' column and converting strings to numbers.\n",
    "    global x_train\n",
    "    for k in range(0,len(x_train['journalPubs'])):\n",
    "        if(pd.isna(x_train['journalPubs'].iloc[k])):\n",
    "             x_train['journalPubs'].iloc[k] = 0\n",
    "        elif(type(x_train['journalPubs'].iloc[k])==str):\n",
    "            if('http'in x_train['journalPubs'].iloc[k]): #some entries had URLs, so had to count the number of URLs & add them\n",
    "                x_train['journalPubs'].iloc[k] = len(x_train['journalPubs'].iloc[k].split(',')) #accordingly\n",
    "            else:\n",
    "                x_train['journalPubs'].iloc[k] = int(x_train['journalPubs'].iloc[k])"
   ]
  },
  {
   "cell_type": "code",
   "execution_count": 57,
   "metadata": {},
   "outputs": [],
   "source": [
    "compute_journalPubs() #calling the function"
   ]
  },
  {
   "cell_type": "code",
   "execution_count": 58,
   "metadata": {},
   "outputs": [
    {
     "data": {
      "text/plain": [
       "array([0, 2, 7, 1, 3, 4, 5, 12, 6], dtype=object)"
      ]
     },
     "execution_count": 58,
     "metadata": {},
     "output_type": "execute_result"
    }
   ],
   "source": [
    "x_train['journalPubs'].unique() #checking unique values in 'journalPubs' column"
   ]
  },
  {
   "cell_type": "code",
   "execution_count": 59,
   "metadata": {},
   "outputs": [
    {
     "data": {
      "text/plain": [
       "0"
      ]
     },
     "execution_count": 59,
     "metadata": {},
     "output_type": "execute_result"
    }
   ],
   "source": [
    "x_train['journalPubs'].isna().sum() #no NaN values in 'journalPubs' column"
   ]
  },
  {
   "cell_type": "code",
   "execution_count": 60,
   "metadata": {},
   "outputs": [
    {
     "data": {
      "text/plain": [
       "array(['0', '2', '3', '1', '4', '5', 'Fall - 2015', '8', '6',\n",
       "       'Fall - 2012', 'Fall - 2014', '15'], dtype=object)"
      ]
     },
     "execution_count": 60,
     "metadata": {},
     "output_type": "execute_result"
    }
   ],
   "source": [
    "x_train['confPubs'].unique() #checking unique values in 'confPubs' column"
   ]
  },
  {
   "cell_type": "code",
   "execution_count": 61,
   "metadata": {},
   "outputs": [
    {
     "data": {
      "text/plain": [
       "0"
      ]
     },
     "execution_count": 61,
     "metadata": {},
     "output_type": "execute_result"
    }
   ],
   "source": [
    "x_train['confPubs'].isna().sum() #no NaN values in 'confPubs' column"
   ]
  },
  {
   "cell_type": "code",
   "execution_count": 62,
   "metadata": {},
   "outputs": [],
   "source": [
    "def compute_confPubs(): #converting strings to numbers.\n",
    "    global x_train\n",
    "    for k in range(0,len(x_train['confPubs'])):\n",
    "        if(pd.isna(x_train['confPubs'].iloc[k])): #we don't have any NaN value yet, but we have applied this function for future entries.\n",
    "             x_train['confPubs'].iloc[k] = 0  #for now it would work fine, even if we remove this 'if(pd.isna())' condition\n",
    "        elif(type(x_train['confPubs'].iloc[k])==str):\n",
    "            if('Fall'in x_train['confPubs'].iloc[k]):\n",
    "                x_train['confPubs'].iloc[k] = len(x_train['confPubs'].iloc[k].split(','))# some entries had values like 'Fall-2015', hence applied split function to split and add them up.\n",
    "            else:\n",
    "                x_train['confPubs'].iloc[k] = int(x_train['confPubs'].iloc[k])"
   ]
  },
  {
   "cell_type": "code",
   "execution_count": 63,
   "metadata": {},
   "outputs": [],
   "source": [
    "compute_confPubs()  #calling the function"
   ]
  },
  {
   "cell_type": "code",
   "execution_count": 64,
   "metadata": {},
   "outputs": [
    {
     "data": {
      "text/plain": [
       "array([0, 2, 3, 1, 4, 5, 8, 6, 15], dtype=object)"
      ]
     },
     "execution_count": 64,
     "metadata": {},
     "output_type": "execute_result"
    }
   ],
   "source": [
    "x_train['confPubs'].unique() #checking if there are any string values left in 'confPubs' column"
   ]
  },
  {
   "cell_type": "code",
   "execution_count": 65,
   "metadata": {},
   "outputs": [
    {
     "data": {
      "text/html": [
       "<div>\n",
       "<style scoped>\n",
       "    .dataframe tbody tr th:only-of-type {\n",
       "        vertical-align: middle;\n",
       "    }\n",
       "\n",
       "    .dataframe tbody tr th {\n",
       "        vertical-align: top;\n",
       "    }\n",
       "\n",
       "    .dataframe thead th {\n",
       "        text-align: right;\n",
       "    }\n",
       "</style>\n",
       "<table border=\"1\" class=\"dataframe\">\n",
       "  <thead>\n",
       "    <tr style=\"text-align: right;\">\n",
       "      <th></th>\n",
       "      <th>major</th>\n",
       "      <th>researchExp</th>\n",
       "      <th>industryExp</th>\n",
       "      <th>specialization</th>\n",
       "      <th>program</th>\n",
       "      <th>department</th>\n",
       "      <th>internExp</th>\n",
       "      <th>greV</th>\n",
       "      <th>greQ</th>\n",
       "      <th>journalPubs</th>\n",
       "      <th>greA</th>\n",
       "      <th>topperCgpa</th>\n",
       "      <th>confPubs</th>\n",
       "      <th>ugCollege</th>\n",
       "      <th>cgpa</th>\n",
       "      <th>univName</th>\n",
       "      <th>admit</th>\n",
       "    </tr>\n",
       "  </thead>\n",
       "  <tbody>\n",
       "    <tr>\n",
       "      <th>0</th>\n",
       "      <td>Systems and Control</td>\n",
       "      <td>0</td>\n",
       "      <td>18</td>\n",
       "      <td>Robotics</td>\n",
       "      <td>MS</td>\n",
       "      <td>Instrumentation &amp; Control</td>\n",
       "      <td>5.0</td>\n",
       "      <td>160.0</td>\n",
       "      <td>167.0</td>\n",
       "      <td>0</td>\n",
       "      <td>4.5</td>\n",
       "      <td>8.900</td>\n",
       "      <td>0</td>\n",
       "      <td>Dharamsinh Desai University</td>\n",
       "      <td>8.500</td>\n",
       "      <td>Worcester Polytechnic Institute</td>\n",
       "      <td>1</td>\n",
       "    </tr>\n",
       "    <tr>\n",
       "      <th>2</th>\n",
       "      <td>(MIS / MSIM / MSIS / MSIT)</td>\n",
       "      <td>0</td>\n",
       "      <td>66</td>\n",
       "      <td>NaN</td>\n",
       "      <td>MS</td>\n",
       "      <td>Computer Engineering</td>\n",
       "      <td>0.0</td>\n",
       "      <td>146.0</td>\n",
       "      <td>157.0</td>\n",
       "      <td>0</td>\n",
       "      <td>3.0</td>\n",
       "      <td>8.100</td>\n",
       "      <td>0</td>\n",
       "      <td>IET DAVV</td>\n",
       "      <td>7.828</td>\n",
       "      <td>Worcester Polytechnic Institute</td>\n",
       "      <td>1</td>\n",
       "    </tr>\n",
       "    <tr>\n",
       "      <th>4</th>\n",
       "      <td>MIS</td>\n",
       "      <td>0</td>\n",
       "      <td>0</td>\n",
       "      <td>NaN</td>\n",
       "      <td>MS</td>\n",
       "      <td>computer</td>\n",
       "      <td>0.0</td>\n",
       "      <td>420.0</td>\n",
       "      <td>770.0</td>\n",
       "      <td>0</td>\n",
       "      <td>2.5</td>\n",
       "      <td>7.000</td>\n",
       "      <td>0</td>\n",
       "      <td>Pune University</td>\n",
       "      <td>5.700</td>\n",
       "      <td>Worcester Polytechnic Institute</td>\n",
       "      <td>1</td>\n",
       "    </tr>\n",
       "    <tr>\n",
       "      <th>5</th>\n",
       "      <td>MIS</td>\n",
       "      <td>0</td>\n",
       "      <td>0</td>\n",
       "      <td>Information Security Management</td>\n",
       "      <td>MS</td>\n",
       "      <td>CE</td>\n",
       "      <td>0.0</td>\n",
       "      <td>410.0</td>\n",
       "      <td>1010.0</td>\n",
       "      <td>0</td>\n",
       "      <td>600.0</td>\n",
       "      <td>7.500</td>\n",
       "      <td>0</td>\n",
       "      <td>Thadomal Shahani Engineering College</td>\n",
       "      <td>5.200</td>\n",
       "      <td>Worcester Polytechnic Institute</td>\n",
       "      <td>1</td>\n",
       "    </tr>\n",
       "    <tr>\n",
       "      <th>6</th>\n",
       "      <td>MIS</td>\n",
       "      <td>0</td>\n",
       "      <td>0</td>\n",
       "      <td>Business Analytics</td>\n",
       "      <td>MS</td>\n",
       "      <td>Computer Engineering</td>\n",
       "      <td>0.0</td>\n",
       "      <td>150.0</td>\n",
       "      <td>161.0</td>\n",
       "      <td>0</td>\n",
       "      <td>4.5</td>\n",
       "      <td>7.781</td>\n",
       "      <td>0</td>\n",
       "      <td>University of Mumbai</td>\n",
       "      <td>6.220</td>\n",
       "      <td>Worcester Polytechnic Institute</td>\n",
       "      <td>1</td>\n",
       "    </tr>\n",
       "  </tbody>\n",
       "</table>\n",
       "</div>"
      ],
      "text/plain": [
       "                        major  researchExp  industryExp  \\\n",
       "0         Systems and Control            0           18   \n",
       "2  (MIS / MSIM / MSIS / MSIT)            0           66   \n",
       "4                         MIS            0            0   \n",
       "5                         MIS            0            0   \n",
       "6                         MIS            0            0   \n",
       "\n",
       "                    specialization program                 department  \\\n",
       "0                         Robotics      MS  Instrumentation & Control   \n",
       "2                              NaN      MS       Computer Engineering   \n",
       "4                              NaN      MS                   computer   \n",
       "5  Information Security Management      MS                         CE   \n",
       "6               Business Analytics      MS       Computer Engineering   \n",
       "\n",
       "   internExp   greV    greQ journalPubs   greA  topperCgpa confPubs  \\\n",
       "0        5.0  160.0   167.0           0    4.5       8.900        0   \n",
       "2        0.0  146.0   157.0           0    3.0       8.100        0   \n",
       "4        0.0  420.0   770.0           0    2.5       7.000        0   \n",
       "5        0.0  410.0  1010.0           0  600.0       7.500        0   \n",
       "6        0.0  150.0   161.0           0    4.5       7.781        0   \n",
       "\n",
       "                              ugCollege   cgpa  \\\n",
       "0           Dharamsinh Desai University  8.500   \n",
       "2                              IET DAVV  7.828   \n",
       "4                       Pune University  5.700   \n",
       "5  Thadomal Shahani Engineering College  5.200   \n",
       "6                  University of Mumbai  6.220   \n",
       "\n",
       "                          univName  admit  \n",
       "0  Worcester Polytechnic Institute      1  \n",
       "2  Worcester Polytechnic Institute      1  \n",
       "4  Worcester Polytechnic Institute      1  \n",
       "5  Worcester Polytechnic Institute      1  \n",
       "6  Worcester Polytechnic Institute      1  "
      ]
     },
     "execution_count": 65,
     "metadata": {},
     "output_type": "execute_result"
    }
   ],
   "source": [
    "x_train.head()  #Analysing the first five entries"
   ]
  },
  {
   "cell_type": "code",
   "execution_count": 66,
   "metadata": {},
   "outputs": [
    {
     "data": {
      "text/plain": [
       "(50705, 17)"
      ]
     },
     "execution_count": 66,
     "metadata": {},
     "output_type": "execute_result"
    }
   ],
   "source": [
    "x_train.shape #checking the number of rows and columns"
   ]
  },
  {
   "cell_type": "code",
   "execution_count": 67,
   "metadata": {},
   "outputs": [
    {
     "data": {
      "text/plain": [
       "1"
      ]
     },
     "execution_count": 67,
     "metadata": {},
     "output_type": "execute_result"
    }
   ],
   "source": [
    "x_train['department'].isna().sum()  #checking NaN values in 'department' column"
   ]
  },
  {
   "cell_type": "code",
   "execution_count": 68,
   "metadata": {},
   "outputs": [],
   "source": [
    "#generating lists for diving a single column of 'department' into various columns (manually,without using get_dummies)\n",
    "cse = []\n",
    "ece = []\n",
    "others = []\n",
    "mech = []\n",
    "it = []\n",
    "nonstring = []\n",
    "nan = []\n",
    "biotech = []\n",
    "aerospace = []\n",
    "finance = []\n",
    "zero = []\n",
    "civil = []\n",
    "eee = []\n",
    "def appending(tos):  #this function is taking a list as an input. Initially values for all the rows were zero.\n",
    "    cse.append(0)\n",
    "    mech.append(0)\n",
    "    ece.append(0)\n",
    "    it.append(0)\n",
    "    others.append(0)\n",
    "    nonstring.append(0)\n",
    "    nan.append(0)\n",
    "    biotech.append(0)\n",
    "    aerospace.append(0)\n",
    "    finance.append(0)\n",
    "    zero.append(0)\n",
    "    civil.append(0)\n",
    "    eee.append(0)\n",
    "    tos.pop()  #popping out the given list values and appending 1 instead of 0 in the rows which satify the below condition.\n",
    "    tos.append(1)\n",
    "\n",
    "def process_department():  #dividing the data on the basis of \"keywords\"\n",
    "    global x_train\n",
    "    for i in range(0, len(x_train['department'])):\n",
    "        if(type(x_train['department'].iloc[i]) == str):\n",
    "            if('comp' in x_train['department'].iloc[i].lower() or 'cs' in x_train['department'].iloc[i].lower()):\n",
    "                appending(cse)\n",
    "                \n",
    "            elif('mech' in x_train['department'].iloc[i].lower() or 'auto' in x_train['department'].iloc[i].lower()):\n",
    "                appending(mech)\n",
    "                \n",
    "            elif('eee' in x_train['department'].iloc[i].lower() or 'electric' in x_train['department'].iloc[i].lower()):\n",
    "                appending(eee)\n",
    "                \n",
    "            elif('0' in x_train['department'].iloc[i]):\n",
    "                appending(zero)\n",
    "                \n",
    "            elif('civil' in x_train['department'].iloc[i].lower()):\n",
    "                appending(civil)\n",
    "                \n",
    "            elif('aero' in x_train['department'].iloc[i].lower()):\n",
    "                appending(aerospace)\n",
    "                \n",
    "            elif('bio' in x_train['department'].iloc[i].lower() or 'chem' in x_train['department'].iloc[i].lower()):\n",
    "                appending(biotech)\n",
    "                \n",
    "            elif('business' in x_train['department'].iloc[i].lower() or 'finance' in x_train['department'].iloc[i].lower()):\n",
    "                appending(finance)\n",
    "                \n",
    "            elif('electronic' in x_train['department'].iloc[i].lower() or'comm' in x_train['department'].iloc[i].lower() or 'ece' in x_train['department'].iloc[i].lower()):\n",
    "                appending(ece)\n",
    "                \n",
    "            elif('i.t' in x_train['department'].iloc[i].lower() or 'it' in x_train['department'].iloc[i].lower() or 'information' in x_train['department'].iloc[i].lower()):\n",
    "                appending(it)\n",
    "                \n",
    "            else:\n",
    "                appending(others)\n",
    "                \n",
    "        elif(type(x_train['department']) == 'nan'):\n",
    "            appending(nan)\n",
    "        else:\n",
    "            appending(nonstring)\n",
    "    x_train['cse'] = cse  #converting lists into columns\n",
    "    x_train['ece'] = ece\n",
    "    x_train['others'] = others\n",
    "    x_train['mech'] = mech\n",
    "    x_train['it'] = it\n",
    "    x_train['nonstring'] = nonstring\n",
    "    x_train['nan'] = nan\n",
    "    x_train['biotech'] = biotech\n",
    "    x_train['aerospace'] = aerospace\n",
    "    x_train['finance'] = finance\n",
    "    x_train['zero'] = zero\n",
    "    x_train['civil'] = civil\n",
    "    x_train['eee'] = eee\n",
    "\n",
    "\n",
    "    \n"
   ]
  },
  {
   "cell_type": "code",
   "execution_count": 69,
   "metadata": {},
   "outputs": [],
   "source": [
    "process_department()  #calling the function"
   ]
  },
  {
   "cell_type": "code",
   "execution_count": 70,
   "metadata": {},
   "outputs": [
    {
     "data": {
      "text/plain": [
       "(50705, 30)"
      ]
     },
     "execution_count": 70,
     "metadata": {},
     "output_type": "execute_result"
    }
   ],
   "source": [
    "x_train.shape  # checking number of rows and columns after spliting 'department' column\n",
    "# NOTE: We haven't dropped the 'department' column yet!"
   ]
  },
  {
   "cell_type": "code",
   "execution_count": 71,
   "metadata": {},
   "outputs": [
    {
     "data": {
      "text/html": [
       "<div>\n",
       "<style scoped>\n",
       "    .dataframe tbody tr th:only-of-type {\n",
       "        vertical-align: middle;\n",
       "    }\n",
       "\n",
       "    .dataframe tbody tr th {\n",
       "        vertical-align: top;\n",
       "    }\n",
       "\n",
       "    .dataframe thead th {\n",
       "        text-align: right;\n",
       "    }\n",
       "</style>\n",
       "<table border=\"1\" class=\"dataframe\">\n",
       "  <thead>\n",
       "    <tr style=\"text-align: right;\">\n",
       "      <th></th>\n",
       "      <th>major</th>\n",
       "      <th>researchExp</th>\n",
       "      <th>industryExp</th>\n",
       "      <th>specialization</th>\n",
       "      <th>program</th>\n",
       "      <th>department</th>\n",
       "      <th>internExp</th>\n",
       "      <th>greV</th>\n",
       "      <th>greQ</th>\n",
       "      <th>journalPubs</th>\n",
       "      <th>...</th>\n",
       "      <th>mech</th>\n",
       "      <th>it</th>\n",
       "      <th>nonstring</th>\n",
       "      <th>nan</th>\n",
       "      <th>biotech</th>\n",
       "      <th>aerospace</th>\n",
       "      <th>finance</th>\n",
       "      <th>zero</th>\n",
       "      <th>civil</th>\n",
       "      <th>eee</th>\n",
       "    </tr>\n",
       "  </thead>\n",
       "  <tbody>\n",
       "    <tr>\n",
       "      <th>0</th>\n",
       "      <td>Systems and Control</td>\n",
       "      <td>0</td>\n",
       "      <td>18</td>\n",
       "      <td>Robotics</td>\n",
       "      <td>MS</td>\n",
       "      <td>Instrumentation &amp; Control</td>\n",
       "      <td>5.0</td>\n",
       "      <td>160.0</td>\n",
       "      <td>167.0</td>\n",
       "      <td>0</td>\n",
       "      <td>...</td>\n",
       "      <td>0</td>\n",
       "      <td>0</td>\n",
       "      <td>0</td>\n",
       "      <td>0</td>\n",
       "      <td>0</td>\n",
       "      <td>0</td>\n",
       "      <td>0</td>\n",
       "      <td>0</td>\n",
       "      <td>0</td>\n",
       "      <td>0</td>\n",
       "    </tr>\n",
       "    <tr>\n",
       "      <th>2</th>\n",
       "      <td>(MIS / MSIM / MSIS / MSIT)</td>\n",
       "      <td>0</td>\n",
       "      <td>66</td>\n",
       "      <td>NaN</td>\n",
       "      <td>MS</td>\n",
       "      <td>Computer Engineering</td>\n",
       "      <td>0.0</td>\n",
       "      <td>146.0</td>\n",
       "      <td>157.0</td>\n",
       "      <td>0</td>\n",
       "      <td>...</td>\n",
       "      <td>0</td>\n",
       "      <td>0</td>\n",
       "      <td>0</td>\n",
       "      <td>0</td>\n",
       "      <td>0</td>\n",
       "      <td>0</td>\n",
       "      <td>0</td>\n",
       "      <td>0</td>\n",
       "      <td>0</td>\n",
       "      <td>0</td>\n",
       "    </tr>\n",
       "    <tr>\n",
       "      <th>4</th>\n",
       "      <td>MIS</td>\n",
       "      <td>0</td>\n",
       "      <td>0</td>\n",
       "      <td>NaN</td>\n",
       "      <td>MS</td>\n",
       "      <td>computer</td>\n",
       "      <td>0.0</td>\n",
       "      <td>420.0</td>\n",
       "      <td>770.0</td>\n",
       "      <td>0</td>\n",
       "      <td>...</td>\n",
       "      <td>0</td>\n",
       "      <td>0</td>\n",
       "      <td>0</td>\n",
       "      <td>0</td>\n",
       "      <td>0</td>\n",
       "      <td>0</td>\n",
       "      <td>0</td>\n",
       "      <td>0</td>\n",
       "      <td>0</td>\n",
       "      <td>0</td>\n",
       "    </tr>\n",
       "    <tr>\n",
       "      <th>5</th>\n",
       "      <td>MIS</td>\n",
       "      <td>0</td>\n",
       "      <td>0</td>\n",
       "      <td>Information Security Management</td>\n",
       "      <td>MS</td>\n",
       "      <td>CE</td>\n",
       "      <td>0.0</td>\n",
       "      <td>410.0</td>\n",
       "      <td>1010.0</td>\n",
       "      <td>0</td>\n",
       "      <td>...</td>\n",
       "      <td>0</td>\n",
       "      <td>0</td>\n",
       "      <td>0</td>\n",
       "      <td>0</td>\n",
       "      <td>0</td>\n",
       "      <td>0</td>\n",
       "      <td>0</td>\n",
       "      <td>0</td>\n",
       "      <td>0</td>\n",
       "      <td>0</td>\n",
       "    </tr>\n",
       "    <tr>\n",
       "      <th>6</th>\n",
       "      <td>MIS</td>\n",
       "      <td>0</td>\n",
       "      <td>0</td>\n",
       "      <td>Business Analytics</td>\n",
       "      <td>MS</td>\n",
       "      <td>Computer Engineering</td>\n",
       "      <td>0.0</td>\n",
       "      <td>150.0</td>\n",
       "      <td>161.0</td>\n",
       "      <td>0</td>\n",
       "      <td>...</td>\n",
       "      <td>0</td>\n",
       "      <td>0</td>\n",
       "      <td>0</td>\n",
       "      <td>0</td>\n",
       "      <td>0</td>\n",
       "      <td>0</td>\n",
       "      <td>0</td>\n",
       "      <td>0</td>\n",
       "      <td>0</td>\n",
       "      <td>0</td>\n",
       "    </tr>\n",
       "  </tbody>\n",
       "</table>\n",
       "<p>5 rows × 30 columns</p>\n",
       "</div>"
      ],
      "text/plain": [
       "                        major  researchExp  industryExp  \\\n",
       "0         Systems and Control            0           18   \n",
       "2  (MIS / MSIM / MSIS / MSIT)            0           66   \n",
       "4                         MIS            0            0   \n",
       "5                         MIS            0            0   \n",
       "6                         MIS            0            0   \n",
       "\n",
       "                    specialization program                 department  \\\n",
       "0                         Robotics      MS  Instrumentation & Control   \n",
       "2                              NaN      MS       Computer Engineering   \n",
       "4                              NaN      MS                   computer   \n",
       "5  Information Security Management      MS                         CE   \n",
       "6               Business Analytics      MS       Computer Engineering   \n",
       "\n",
       "   internExp   greV    greQ journalPubs  ...  mech  it nonstring nan  biotech  \\\n",
       "0        5.0  160.0   167.0           0  ...     0   0         0   0        0   \n",
       "2        0.0  146.0   157.0           0  ...     0   0         0   0        0   \n",
       "4        0.0  420.0   770.0           0  ...     0   0         0   0        0   \n",
       "5        0.0  410.0  1010.0           0  ...     0   0         0   0        0   \n",
       "6        0.0  150.0   161.0           0  ...     0   0         0   0        0   \n",
       "\n",
       "  aerospace  finance  zero  civil  eee  \n",
       "0         0        0     0      0    0  \n",
       "2         0        0     0      0    0  \n",
       "4         0        0     0      0    0  \n",
       "5         0        0     0      0    0  \n",
       "6         0        0     0      0    0  \n",
       "\n",
       "[5 rows x 30 columns]"
      ]
     },
     "execution_count": 71,
     "metadata": {},
     "output_type": "execute_result"
    }
   ],
   "source": [
    "x_train.head() #Analysing the data in tabular form again"
   ]
  },
  {
   "cell_type": "code",
   "execution_count": 72,
   "metadata": {},
   "outputs": [],
   "source": [
    "x_train = x_train.drop('department',1,inplace=False) #dropping 'department' column"
   ]
  },
  {
   "cell_type": "code",
   "execution_count": 73,
   "metadata": {},
   "outputs": [
    {
     "data": {
      "text/html": [
       "<div>\n",
       "<style scoped>\n",
       "    .dataframe tbody tr th:only-of-type {\n",
       "        vertical-align: middle;\n",
       "    }\n",
       "\n",
       "    .dataframe tbody tr th {\n",
       "        vertical-align: top;\n",
       "    }\n",
       "\n",
       "    .dataframe thead th {\n",
       "        text-align: right;\n",
       "    }\n",
       "</style>\n",
       "<table border=\"1\" class=\"dataframe\">\n",
       "  <thead>\n",
       "    <tr style=\"text-align: right;\">\n",
       "      <th></th>\n",
       "      <th>major</th>\n",
       "      <th>researchExp</th>\n",
       "      <th>industryExp</th>\n",
       "      <th>specialization</th>\n",
       "      <th>program</th>\n",
       "      <th>internExp</th>\n",
       "      <th>greV</th>\n",
       "      <th>greQ</th>\n",
       "      <th>journalPubs</th>\n",
       "      <th>greA</th>\n",
       "      <th>...</th>\n",
       "      <th>mech</th>\n",
       "      <th>it</th>\n",
       "      <th>nonstring</th>\n",
       "      <th>nan</th>\n",
       "      <th>biotech</th>\n",
       "      <th>aerospace</th>\n",
       "      <th>finance</th>\n",
       "      <th>zero</th>\n",
       "      <th>civil</th>\n",
       "      <th>eee</th>\n",
       "    </tr>\n",
       "  </thead>\n",
       "  <tbody>\n",
       "    <tr>\n",
       "      <th>0</th>\n",
       "      <td>Systems and Control</td>\n",
       "      <td>0</td>\n",
       "      <td>18</td>\n",
       "      <td>Robotics</td>\n",
       "      <td>MS</td>\n",
       "      <td>5.0</td>\n",
       "      <td>160.0</td>\n",
       "      <td>167.0</td>\n",
       "      <td>0</td>\n",
       "      <td>4.5</td>\n",
       "      <td>...</td>\n",
       "      <td>0</td>\n",
       "      <td>0</td>\n",
       "      <td>0</td>\n",
       "      <td>0</td>\n",
       "      <td>0</td>\n",
       "      <td>0</td>\n",
       "      <td>0</td>\n",
       "      <td>0</td>\n",
       "      <td>0</td>\n",
       "      <td>0</td>\n",
       "    </tr>\n",
       "    <tr>\n",
       "      <th>2</th>\n",
       "      <td>(MIS / MSIM / MSIS / MSIT)</td>\n",
       "      <td>0</td>\n",
       "      <td>66</td>\n",
       "      <td>NaN</td>\n",
       "      <td>MS</td>\n",
       "      <td>0.0</td>\n",
       "      <td>146.0</td>\n",
       "      <td>157.0</td>\n",
       "      <td>0</td>\n",
       "      <td>3.0</td>\n",
       "      <td>...</td>\n",
       "      <td>0</td>\n",
       "      <td>0</td>\n",
       "      <td>0</td>\n",
       "      <td>0</td>\n",
       "      <td>0</td>\n",
       "      <td>0</td>\n",
       "      <td>0</td>\n",
       "      <td>0</td>\n",
       "      <td>0</td>\n",
       "      <td>0</td>\n",
       "    </tr>\n",
       "    <tr>\n",
       "      <th>4</th>\n",
       "      <td>MIS</td>\n",
       "      <td>0</td>\n",
       "      <td>0</td>\n",
       "      <td>NaN</td>\n",
       "      <td>MS</td>\n",
       "      <td>0.0</td>\n",
       "      <td>420.0</td>\n",
       "      <td>770.0</td>\n",
       "      <td>0</td>\n",
       "      <td>2.5</td>\n",
       "      <td>...</td>\n",
       "      <td>0</td>\n",
       "      <td>0</td>\n",
       "      <td>0</td>\n",
       "      <td>0</td>\n",
       "      <td>0</td>\n",
       "      <td>0</td>\n",
       "      <td>0</td>\n",
       "      <td>0</td>\n",
       "      <td>0</td>\n",
       "      <td>0</td>\n",
       "    </tr>\n",
       "    <tr>\n",
       "      <th>5</th>\n",
       "      <td>MIS</td>\n",
       "      <td>0</td>\n",
       "      <td>0</td>\n",
       "      <td>Information Security Management</td>\n",
       "      <td>MS</td>\n",
       "      <td>0.0</td>\n",
       "      <td>410.0</td>\n",
       "      <td>1010.0</td>\n",
       "      <td>0</td>\n",
       "      <td>600.0</td>\n",
       "      <td>...</td>\n",
       "      <td>0</td>\n",
       "      <td>0</td>\n",
       "      <td>0</td>\n",
       "      <td>0</td>\n",
       "      <td>0</td>\n",
       "      <td>0</td>\n",
       "      <td>0</td>\n",
       "      <td>0</td>\n",
       "      <td>0</td>\n",
       "      <td>0</td>\n",
       "    </tr>\n",
       "    <tr>\n",
       "      <th>6</th>\n",
       "      <td>MIS</td>\n",
       "      <td>0</td>\n",
       "      <td>0</td>\n",
       "      <td>Business Analytics</td>\n",
       "      <td>MS</td>\n",
       "      <td>0.0</td>\n",
       "      <td>150.0</td>\n",
       "      <td>161.0</td>\n",
       "      <td>0</td>\n",
       "      <td>4.5</td>\n",
       "      <td>...</td>\n",
       "      <td>0</td>\n",
       "      <td>0</td>\n",
       "      <td>0</td>\n",
       "      <td>0</td>\n",
       "      <td>0</td>\n",
       "      <td>0</td>\n",
       "      <td>0</td>\n",
       "      <td>0</td>\n",
       "      <td>0</td>\n",
       "      <td>0</td>\n",
       "    </tr>\n",
       "  </tbody>\n",
       "</table>\n",
       "<p>5 rows × 29 columns</p>\n",
       "</div>"
      ],
      "text/plain": [
       "                        major  researchExp  industryExp  \\\n",
       "0         Systems and Control            0           18   \n",
       "2  (MIS / MSIM / MSIS / MSIT)            0           66   \n",
       "4                         MIS            0            0   \n",
       "5                         MIS            0            0   \n",
       "6                         MIS            0            0   \n",
       "\n",
       "                    specialization program  internExp   greV    greQ  \\\n",
       "0                         Robotics      MS        5.0  160.0   167.0   \n",
       "2                              NaN      MS        0.0  146.0   157.0   \n",
       "4                              NaN      MS        0.0  420.0   770.0   \n",
       "5  Information Security Management      MS        0.0  410.0  1010.0   \n",
       "6               Business Analytics      MS        0.0  150.0   161.0   \n",
       "\n",
       "  journalPubs   greA  ...  mech it nonstring  nan biotech  aerospace  finance  \\\n",
       "0           0    4.5  ...     0  0         0    0       0          0        0   \n",
       "2           0    3.0  ...     0  0         0    0       0          0        0   \n",
       "4           0    2.5  ...     0  0         0    0       0          0        0   \n",
       "5           0  600.0  ...     0  0         0    0       0          0        0   \n",
       "6           0    4.5  ...     0  0         0    0       0          0        0   \n",
       "\n",
       "   zero  civil  eee  \n",
       "0     0      0    0  \n",
       "2     0      0    0  \n",
       "4     0      0    0  \n",
       "5     0      0    0  \n",
       "6     0      0    0  \n",
       "\n",
       "[5 rows x 29 columns]"
      ]
     },
     "execution_count": 73,
     "metadata": {},
     "output_type": "execute_result"
    }
   ],
   "source": [
    "x_train.head() #Analysing the data again. NOTE: 'department' column dropped!"
   ]
  },
  {
   "cell_type": "code",
   "execution_count": 74,
   "metadata": {},
   "outputs": [
    {
     "data": {
      "text/plain": [
       "57"
      ]
     },
     "execution_count": 74,
     "metadata": {},
     "output_type": "execute_result"
    }
   ],
   "source": [
    "x_train['major'].isna().sum() #checking for NaN values in 'major' column"
   ]
  },
  {
   "cell_type": "code",
   "execution_count": 75,
   "metadata": {},
   "outputs": [
    {
     "data": {
      "text/plain": [
       "19864"
      ]
     },
     "execution_count": 75,
     "metadata": {},
     "output_type": "execute_result"
    }
   ],
   "source": [
    "x_train['specialization'].isna().sum() #checking for NaN values in 'specialization' column"
   ]
  },
  {
   "cell_type": "code",
   "execution_count": 76,
   "metadata": {},
   "outputs": [
    {
     "data": {
      "text/plain": [
       "0"
      ]
     },
     "execution_count": 76,
     "metadata": {},
     "output_type": "execute_result"
    }
   ],
   "source": [
    "x_train['program'].isna().sum() #checking for NaN values in 'program' column"
   ]
  },
  {
   "cell_type": "code",
   "execution_count": 77,
   "metadata": {},
   "outputs": [
    {
     "data": {
      "text/plain": [
       "1529"
      ]
     },
     "execution_count": 77,
     "metadata": {},
     "output_type": "execute_result"
    }
   ],
   "source": [
    "x_train['ugCollege'].isna().sum() #checking for NaN values in 'ugCollege' column"
   ]
  },
  {
   "cell_type": "code",
   "execution_count": 78,
   "metadata": {},
   "outputs": [
    {
     "data": {
      "text/plain": [
       "0"
      ]
     },
     "execution_count": 78,
     "metadata": {},
     "output_type": "execute_result"
    }
   ],
   "source": [
    "x_train['univName'].isna().sum() #checking for NaN values in 'univName' column"
   ]
  },
  {
   "cell_type": "code",
   "execution_count": 79,
   "metadata": {},
   "outputs": [],
   "source": [
    "# here we are filling the NaN values of 'major' column with the string 'major: not specified'\n",
    "# We have done the same with the other two columns namely 'specialization' & 'ugCollege' but with a string different from 'major'\n",
    "# we did this because if we haven't done this,then the 'not specified' string would become common in all the three columns and\n",
    "#hence there were chances of duplicated data.\n",
    "x_train['major'].fillna('major:not specified',inplace=True) "
   ]
  },
  {
   "cell_type": "code",
   "execution_count": 80,
   "metadata": {},
   "outputs": [],
   "source": [
    "x_train['ugCollege'].fillna('ugCollege:not specified',inplace=True) #replacing NaN values with string 'ugCollege:not specified'"
   ]
  },
  {
   "cell_type": "code",
   "execution_count": 81,
   "metadata": {},
   "outputs": [],
   "source": [
    "x_train['specialization'].fillna('specialization:not specified',inplace=True) #replacing NaN values with string 'specialization :not specified'"
   ]
  },
  {
   "cell_type": "code",
   "execution_count": 82,
   "metadata": {},
   "outputs": [
    {
     "data": {
      "text/plain": [
       "0"
      ]
     },
     "execution_count": 82,
     "metadata": {},
     "output_type": "execute_result"
    }
   ],
   "source": [
    "x_train['specialization'].str.isdigit().sum() #checking for digits i.e. numerical data in 'specialization' column.\n",
    "#NOTE: We also did this for other columns with categorical data to check if someone has enterd a number rather than a string"
   ]
  },
  {
   "cell_type": "code",
   "execution_count": 83,
   "metadata": {},
   "outputs": [
    {
     "data": {
      "text/plain": [
       "(50705, 29)"
      ]
     },
     "execution_count": 83,
     "metadata": {},
     "output_type": "execute_result"
    }
   ],
   "source": [
    "x_train.shape #checking number of rows and columns"
   ]
  },
  {
   "cell_type": "code",
   "execution_count": 84,
   "metadata": {},
   "outputs": [],
   "source": [
    "def feature_scaling(df): #function defined to do the feature scaling in the numeric data to make their values near to 0 or 1\n",
    "    df -= df.min()\n",
    "    df /= df.max()\n",
    "    return df"
   ]
  },
  {
   "cell_type": "code",
   "execution_count": 85,
   "metadata": {},
   "outputs": [],
   "source": [
    "x_train['researchExp'] = feature_scaling(x_train['researchExp'])"
   ]
  },
  {
   "cell_type": "code",
   "execution_count": 86,
   "metadata": {},
   "outputs": [],
   "source": [
    "x_train['industryExp'] = feature_scaling(x_train['industryExp'])"
   ]
  },
  {
   "cell_type": "code",
   "execution_count": 87,
   "metadata": {},
   "outputs": [],
   "source": [
    "x_train['greV'] = feature_scaling(x_train['greV'])"
   ]
  },
  {
   "cell_type": "code",
   "execution_count": 88,
   "metadata": {},
   "outputs": [],
   "source": [
    "x_train['greA'] = feature_scaling(x_train['greA'])"
   ]
  },
  {
   "cell_type": "code",
   "execution_count": 89,
   "metadata": {},
   "outputs": [],
   "source": [
    "x_train['greQ'] = feature_scaling(x_train['greQ'])"
   ]
  },
  {
   "cell_type": "code",
   "execution_count": 90,
   "metadata": {},
   "outputs": [],
   "source": [
    "x_train['internExp'] = feature_scaling(x_train['internExp'])"
   ]
  },
  {
   "cell_type": "code",
   "execution_count": 91,
   "metadata": {},
   "outputs": [],
   "source": [
    "x_train['cgpa'] = feature_scaling(x_train['cgpa'])"
   ]
  },
  {
   "cell_type": "code",
   "execution_count": 92,
   "metadata": {},
   "outputs": [],
   "source": [
    "x_train['topperCgpa'] = feature_scaling(x_train['topperCgpa'])"
   ]
  },
  {
   "cell_type": "code",
   "execution_count": 93,
   "metadata": {},
   "outputs": [],
   "source": [
    "x_train['journalPubs'] = feature_scaling(x_train['journalPubs'])"
   ]
  },
  {
   "cell_type": "code",
   "execution_count": 94,
   "metadata": {},
   "outputs": [],
   "source": [
    "x_train['confPubs'] = feature_scaling(x_train['confPubs'])"
   ]
  },
  {
   "cell_type": "code",
   "execution_count": 95,
   "metadata": {},
   "outputs": [
    {
     "data": {
      "text/plain": [
       "(50705, 29)"
      ]
     },
     "execution_count": 95,
     "metadata": {},
     "output_type": "execute_result"
    }
   ],
   "source": [
    "x_train.shape #checking for number of rows and columns after feature scaling"
   ]
  },
  {
   "cell_type": "code",
   "execution_count": 96,
   "metadata": {},
   "outputs": [],
   "source": [
    "x_train = pd.get_dummies(x_train)  #using get_dummies to split the left categorical data columns into seperate columns.\n",
    "#NOTE: get_dummies doesn't split float values only. Hence we did the feature scaling before implementing get_dummies."
   ]
  },
  {
   "cell_type": "code",
   "execution_count": 97,
   "metadata": {},
   "outputs": [
    {
     "data": {
      "text/plain": [
       "(50705, 5499)"
      ]
     },
     "execution_count": 97,
     "metadata": {},
     "output_type": "execute_result"
    }
   ],
   "source": [
    "x_train.shape #checking the number of columns"
   ]
  },
  {
   "cell_type": "code",
   "execution_count": 99,
   "metadata": {},
   "outputs": [
    {
     "data": {
      "text/html": [
       "<div>\n",
       "<style scoped>\n",
       "    .dataframe tbody tr th:only-of-type {\n",
       "        vertical-align: middle;\n",
       "    }\n",
       "\n",
       "    .dataframe tbody tr th {\n",
       "        vertical-align: top;\n",
       "    }\n",
       "\n",
       "    .dataframe thead th {\n",
       "        text-align: right;\n",
       "    }\n",
       "</style>\n",
       "<table border=\"1\" class=\"dataframe\">\n",
       "  <thead>\n",
       "    <tr style=\"text-align: right;\">\n",
       "      <th></th>\n",
       "      <th>researchExp</th>\n",
       "      <th>industryExp</th>\n",
       "      <th>internExp</th>\n",
       "      <th>greV</th>\n",
       "      <th>greQ</th>\n",
       "      <th>greA</th>\n",
       "      <th>topperCgpa</th>\n",
       "      <th>cgpa</th>\n",
       "      <th>admit</th>\n",
       "      <th>cse</th>\n",
       "      <th>...</th>\n",
       "      <th>univName_University of Southern California</th>\n",
       "      <th>univName_University of Texas Arlington</th>\n",
       "      <th>univName_University of Texas Austin</th>\n",
       "      <th>univName_University of Texas Dallas</th>\n",
       "      <th>univName_University of Utah</th>\n",
       "      <th>univName_University of Washington</th>\n",
       "      <th>univName_University of Wisconsin Madison</th>\n",
       "      <th>univName_Virginia Polytechnic Institute and State University</th>\n",
       "      <th>univName_Wayne State University</th>\n",
       "      <th>univName_Worcester Polytechnic Institute</th>\n",
       "    </tr>\n",
       "  </thead>\n",
       "  <tbody>\n",
       "    <tr>\n",
       "      <th>0</th>\n",
       "      <td>0.0</td>\n",
       "      <td>0.130435</td>\n",
       "      <td>0.052083</td>\n",
       "      <td>0.028777</td>\n",
       "      <td>0.020901</td>\n",
       "      <td>0.003061</td>\n",
       "      <td>0.041882</td>\n",
       "      <td>0.046575</td>\n",
       "      <td>1</td>\n",
       "      <td>0</td>\n",
       "      <td>...</td>\n",
       "      <td>0</td>\n",
       "      <td>0</td>\n",
       "      <td>0</td>\n",
       "      <td>0</td>\n",
       "      <td>0</td>\n",
       "      <td>0</td>\n",
       "      <td>0</td>\n",
       "      <td>0</td>\n",
       "      <td>0</td>\n",
       "      <td>1</td>\n",
       "    </tr>\n",
       "    <tr>\n",
       "      <th>2</th>\n",
       "      <td>0.0</td>\n",
       "      <td>0.478261</td>\n",
       "      <td>0.000000</td>\n",
       "      <td>0.026259</td>\n",
       "      <td>0.019650</td>\n",
       "      <td>0.002041</td>\n",
       "      <td>0.038118</td>\n",
       "      <td>0.042893</td>\n",
       "      <td>1</td>\n",
       "      <td>1</td>\n",
       "      <td>...</td>\n",
       "      <td>0</td>\n",
       "      <td>0</td>\n",
       "      <td>0</td>\n",
       "      <td>0</td>\n",
       "      <td>0</td>\n",
       "      <td>0</td>\n",
       "      <td>0</td>\n",
       "      <td>0</td>\n",
       "      <td>0</td>\n",
       "      <td>1</td>\n",
       "    </tr>\n",
       "    <tr>\n",
       "      <th>4</th>\n",
       "      <td>0.0</td>\n",
       "      <td>0.000000</td>\n",
       "      <td>0.000000</td>\n",
       "      <td>0.075540</td>\n",
       "      <td>0.096370</td>\n",
       "      <td>0.001701</td>\n",
       "      <td>0.032941</td>\n",
       "      <td>0.031233</td>\n",
       "      <td>1</td>\n",
       "      <td>1</td>\n",
       "      <td>...</td>\n",
       "      <td>0</td>\n",
       "      <td>0</td>\n",
       "      <td>0</td>\n",
       "      <td>0</td>\n",
       "      <td>0</td>\n",
       "      <td>0</td>\n",
       "      <td>0</td>\n",
       "      <td>0</td>\n",
       "      <td>0</td>\n",
       "      <td>1</td>\n",
       "    </tr>\n",
       "    <tr>\n",
       "      <th>5</th>\n",
       "      <td>0.0</td>\n",
       "      <td>0.000000</td>\n",
       "      <td>0.000000</td>\n",
       "      <td>0.073741</td>\n",
       "      <td>0.126408</td>\n",
       "      <td>0.408163</td>\n",
       "      <td>0.035294</td>\n",
       "      <td>0.028493</td>\n",
       "      <td>1</td>\n",
       "      <td>0</td>\n",
       "      <td>...</td>\n",
       "      <td>0</td>\n",
       "      <td>0</td>\n",
       "      <td>0</td>\n",
       "      <td>0</td>\n",
       "      <td>0</td>\n",
       "      <td>0</td>\n",
       "      <td>0</td>\n",
       "      <td>0</td>\n",
       "      <td>0</td>\n",
       "      <td>1</td>\n",
       "    </tr>\n",
       "    <tr>\n",
       "      <th>6</th>\n",
       "      <td>0.0</td>\n",
       "      <td>0.000000</td>\n",
       "      <td>0.000000</td>\n",
       "      <td>0.026978</td>\n",
       "      <td>0.020150</td>\n",
       "      <td>0.003061</td>\n",
       "      <td>0.036616</td>\n",
       "      <td>0.034082</td>\n",
       "      <td>1</td>\n",
       "      <td>1</td>\n",
       "      <td>...</td>\n",
       "      <td>0</td>\n",
       "      <td>0</td>\n",
       "      <td>0</td>\n",
       "      <td>0</td>\n",
       "      <td>0</td>\n",
       "      <td>0</td>\n",
       "      <td>0</td>\n",
       "      <td>0</td>\n",
       "      <td>0</td>\n",
       "      <td>1</td>\n",
       "    </tr>\n",
       "  </tbody>\n",
       "</table>\n",
       "<p>5 rows × 5499 columns</p>\n",
       "</div>"
      ],
      "text/plain": [
       "   researchExp  industryExp  internExp      greV      greQ      greA  \\\n",
       "0          0.0     0.130435   0.052083  0.028777  0.020901  0.003061   \n",
       "2          0.0     0.478261   0.000000  0.026259  0.019650  0.002041   \n",
       "4          0.0     0.000000   0.000000  0.075540  0.096370  0.001701   \n",
       "5          0.0     0.000000   0.000000  0.073741  0.126408  0.408163   \n",
       "6          0.0     0.000000   0.000000  0.026978  0.020150  0.003061   \n",
       "\n",
       "   topperCgpa      cgpa  admit  cse  ...  \\\n",
       "0    0.041882  0.046575      1    0  ...   \n",
       "2    0.038118  0.042893      1    1  ...   \n",
       "4    0.032941  0.031233      1    1  ...   \n",
       "5    0.035294  0.028493      1    0  ...   \n",
       "6    0.036616  0.034082      1    1  ...   \n",
       "\n",
       "   univName_University of Southern California  \\\n",
       "0                                           0   \n",
       "2                                           0   \n",
       "4                                           0   \n",
       "5                                           0   \n",
       "6                                           0   \n",
       "\n",
       "   univName_University of Texas Arlington  \\\n",
       "0                                       0   \n",
       "2                                       0   \n",
       "4                                       0   \n",
       "5                                       0   \n",
       "6                                       0   \n",
       "\n",
       "   univName_University of Texas Austin  univName_University of Texas Dallas  \\\n",
       "0                                    0                                    0   \n",
       "2                                    0                                    0   \n",
       "4                                    0                                    0   \n",
       "5                                    0                                    0   \n",
       "6                                    0                                    0   \n",
       "\n",
       "   univName_University of Utah  univName_University of Washington  \\\n",
       "0                            0                                  0   \n",
       "2                            0                                  0   \n",
       "4                            0                                  0   \n",
       "5                            0                                  0   \n",
       "6                            0                                  0   \n",
       "\n",
       "   univName_University of Wisconsin Madison  \\\n",
       "0                                         0   \n",
       "2                                         0   \n",
       "4                                         0   \n",
       "5                                         0   \n",
       "6                                         0   \n",
       "\n",
       "   univName_Virginia Polytechnic Institute and State University  \\\n",
       "0                                                  0              \n",
       "2                                                  0              \n",
       "4                                                  0              \n",
       "5                                                  0              \n",
       "6                                                  0              \n",
       "\n",
       "   univName_Wayne State University  univName_Worcester Polytechnic Institute  \n",
       "0                                0                                         1  \n",
       "2                                0                                         1  \n",
       "4                                0                                         1  \n",
       "5                                0                                         1  \n",
       "6                                0                                         1  \n",
       "\n",
       "[5 rows x 5499 columns]"
      ]
     },
     "execution_count": 99,
     "metadata": {},
     "output_type": "execute_result"
    }
   ],
   "source": [
    "x_train.head() #Analysing the data in tabular form"
   ]
  },
  {
   "cell_type": "code",
   "execution_count": 114,
   "metadata": {},
   "outputs": [],
   "source": [
    "#dividing the data into training and testing data in the ratio of 80:20.\n",
    "train = x_train.head(40564)\n",
    "test  = x_train.iloc[40564:]"
   ]
  },
  {
   "cell_type": "code",
   "execution_count": 115,
   "metadata": {},
   "outputs": [
    {
     "data": {
      "text/plain": [
       "(40564, 5499)"
      ]
     },
     "execution_count": 115,
     "metadata": {},
     "output_type": "execute_result"
    }
   ],
   "source": [
    "train.shape"
   ]
  },
  {
   "cell_type": "code",
   "execution_count": 116,
   "metadata": {},
   "outputs": [
    {
     "data": {
      "text/plain": [
       "(10141, 5499)"
      ]
     },
     "execution_count": 116,
     "metadata": {},
     "output_type": "execute_result"
    }
   ],
   "source": [
    "test.shape"
   ]
  },
  {
   "cell_type": "code",
   "execution_count": 117,
   "metadata": {},
   "outputs": [],
   "source": [
    "#importing libraries required for model building\n",
    "from sklearn.model_selection import cross_val_score \n",
    "from sklearn.ensemble import RandomForestClassifier  #using Decision Trees concept as RandomForestClassifier algorithm."
   ]
  },
  {
   "cell_type": "code",
   "execution_count": 118,
   "metadata": {},
   "outputs": [],
   "source": [
    "def compute_score(clf, X, y, scoring='accuracy'): #function defined to compute the accuracy of our model.\n",
    "    xval = cross_val_score(clf, X, y, cv = 5, scoring=scoring)\n",
    "    return np.mean(xval)"
   ]
  },
  {
   "cell_type": "code",
   "execution_count": 119,
   "metadata": {},
   "outputs": [],
   "source": [
    "y_train = train['admit'] #target data set in y_train"
   ]
  },
  {
   "cell_type": "code",
   "execution_count": 120,
   "metadata": {},
   "outputs": [
    {
     "name": "stderr",
     "output_type": "stream",
     "text": [
      "F:\\New folder (2)\\lib\\site-packages\\pandas\\core\\frame.py:3997: SettingWithCopyWarning: \n",
      "A value is trying to be set on a copy of a slice from a DataFrame\n",
      "\n",
      "See the caveats in the documentation: https://pandas.pydata.org/pandas-docs/stable/user_guide/indexing.html#returning-a-view-versus-a-copy\n",
      "  errors=errors,\n"
     ]
    }
   ],
   "source": [
    "train.drop('admit',1,inplace= True) #dropping the target data from training data"
   ]
  },
  {
   "cell_type": "code",
   "execution_count": 121,
   "metadata": {},
   "outputs": [
    {
     "data": {
      "text/plain": [
       "(40564, 5498)"
      ]
     },
     "execution_count": 121,
     "metadata": {},
     "output_type": "execute_result"
    }
   ],
   "source": [
    "train.shape #checking number of rows and columns"
   ]
  },
  {
   "cell_type": "code",
   "execution_count": 122,
   "metadata": {},
   "outputs": [
    {
     "data": {
      "text/plain": [
       "(40564,)"
      ]
     },
     "execution_count": 122,
     "metadata": {},
     "output_type": "execute_result"
    }
   ],
   "source": [
    "y_train.shape"
   ]
  },
  {
   "cell_type": "code",
   "execution_count": 123,
   "metadata": {},
   "outputs": [],
   "source": [
    "clf = RandomForestClassifier(n_estimators=50, max_features='sqrt') #applying algorithm\n",
    "clf = clf.fit(train, y_train) #building the model with training data"
   ]
  },
  {
   "cell_type": "code",
   "execution_count": 124,
   "metadata": {},
   "outputs": [
    {
     "data": {
      "text/plain": [
       "0.5453363255845503"
      ]
     },
     "execution_count": 124,
     "metadata": {},
     "output_type": "execute_result"
    }
   ],
   "source": [
    "compute_score(clf, train, y_train, scoring='accuracy') #calculating accuracy of our model"
   ]
  },
  {
   "cell_type": "code",
   "execution_count": 126,
   "metadata": {},
   "outputs": [],
   "source": [
    "y_test = test['admit'] #splitting test data into 'y_test' and 'test' for testing the model and checking afterwards."
   ]
  },
  {
   "cell_type": "code",
   "execution_count": 127,
   "metadata": {},
   "outputs": [],
   "source": [
    "test = test.drop('admit',1,inplace=False)"
   ]
  },
  {
   "cell_type": "code",
   "execution_count": 128,
   "metadata": {},
   "outputs": [
    {
     "data": {
      "text/plain": [
       "(10141, 5498)"
      ]
     },
     "execution_count": 128,
     "metadata": {},
     "output_type": "execute_result"
    }
   ],
   "source": [
    "test.shape #checking number of rows and columns"
   ]
  },
  {
   "cell_type": "code",
   "execution_count": 129,
   "metadata": {},
   "outputs": [],
   "source": [
    "y_observed = clf.predict(test) #predicting values using the above trained model."
   ]
  },
  {
   "cell_type": "code",
   "execution_count": 130,
   "metadata": {},
   "outputs": [
    {
     "name": "stdout",
     "output_type": "stream",
     "text": [
      "55.72428754560694\n"
     ]
    }
   ],
   "source": [
    "#comparing the observed data with the original data and calculating the percentage matched!\n",
    "count = 0\n",
    "for l in range(0,len(y_observed)):\n",
    "    if(y_observed[l] == y_test.iloc[l]):\n",
    "        count= count+1\n",
    "print((count/len(y_observed))*100)"
   ]
  },
  {
   "cell_type": "code",
   "execution_count": 133,
   "metadata": {},
   "outputs": [],
   "source": [
    "np.savetxt(\"output_predticted_after_testing.csv\", y_observed, delimiter=\",\") #saving the calculated data in .csv file."
   ]
  }
 ],
 "metadata": {
  "kernelspec": {
   "display_name": "Python 3",
   "language": "python",
   "name": "python3"
  },
  "language_info": {
   "codemirror_mode": {
    "name": "ipython",
    "version": 3
   },
   "file_extension": ".py",
   "mimetype": "text/x-python",
   "name": "python",
   "nbconvert_exporter": "python",
   "pygments_lexer": "ipython3",
   "version": "3.7.6"
  }
 },
 "nbformat": 4,
 "nbformat_minor": 4
}
